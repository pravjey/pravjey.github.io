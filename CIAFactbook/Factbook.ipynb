{
 "cells": [
  {
   "cell_type": "markdown",
   "metadata": {},
   "source": [
    "# CIA Factbook\n",
    "\n",
    "The purpose of this project was to explore the CIA Factbook, a database of information about all the countries in the world, using SQL queries in order to find out interesting information.\n",
    "\n",
    "The project provided the opportunity to develop my knowledge of SQL and learn Jupyter Notebook. The version of SQL used is sqlite. It makes use of the following types of query:\n",
    "\n",
    "* Summary statistics, such as MIN, MAX, COUNT and AVG\n",
    "* Identifying distinct or repeated records\n",
    "* Sub-queries\n",
    "* Floating point division and Casting\n",
    "* Ordering, Limiting, Multiple conditions\n",
    "\n",
    "The original Jupyter notebook can be downloaded from [here]http://pravjey.github.io/CIAFactbook/factbook.ipynb] \n"
   ]
  },
  {
   "cell_type": "code",
   "execution_count": 2,
   "metadata": {},
   "outputs": [],
   "source": [
    "%%capture\n",
    "%load_ext sql\n",
    "%sql sqlite:///factbook.db"
   ]
  },
  {
   "cell_type": "code",
   "execution_count": 3,
   "metadata": {},
   "outputs": [
    {
     "name": "stdout",
     "output_type": "stream",
     "text": [
      " * sqlite:///factbook.db\n",
      "Done.\n"
     ]
    },
    {
     "data": {
      "text/html": [
       "<table>\n",
       "    <tr>\n",
       "        <th>type</th>\n",
       "        <th>name</th>\n",
       "        <th>tbl_name</th>\n",
       "        <th>rootpage</th>\n",
       "        <th>sql</th>\n",
       "    </tr>\n",
       "    <tr>\n",
       "        <td>table</td>\n",
       "        <td>sqlite_sequence</td>\n",
       "        <td>sqlite_sequence</td>\n",
       "        <td>3</td>\n",
       "        <td>CREATE TABLE sqlite_sequence(name,seq)</td>\n",
       "    </tr>\n",
       "    <tr>\n",
       "        <td>table</td>\n",
       "        <td>facts</td>\n",
       "        <td>facts</td>\n",
       "        <td>47</td>\n",
       "        <td>CREATE TABLE &quot;facts&quot; (&quot;id&quot; INTEGER PRIMARY KEY AUTOINCREMENT NOT NULL, &quot;code&quot; varchar(255) NOT NULL, &quot;name&quot; varchar(255) NOT NULL, &quot;area&quot; integer, &quot;area_land&quot; integer, &quot;area_water&quot; integer, &quot;population&quot; integer, &quot;population_growth&quot; float, &quot;birth_rate&quot; float, &quot;death_rate&quot; float, &quot;migration_rate&quot; float)</td>\n",
       "    </tr>\n",
       "</table>"
      ],
      "text/plain": [
       "[('table', 'sqlite_sequence', 'sqlite_sequence', 3, 'CREATE TABLE sqlite_sequence(name,seq)'),\n",
       " ('table', 'facts', 'facts', 47, 'CREATE TABLE \"facts\" (\"id\" INTEGER PRIMARY KEY AUTOINCREMENT NOT NULL, \"code\" varchar(255) NOT NULL, \"name\" varchar(255) NOT NULL, \"area\" integer, \"a ... (4 characters truncated) ... land\" integer, \"area_water\" integer, \"population\" integer, \"population_growth\" float, \"birth_rate\" float, \"death_rate\" float, \"migration_rate\" float)')]"
      ]
     },
     "execution_count": 3,
     "metadata": {},
     "output_type": "execute_result"
    }
   ],
   "source": [
    "%sql SELECT * FROM sqlite_master WHERE type='table';"
   ]
  },
  {
   "cell_type": "markdown",
   "metadata": {},
   "source": [
    "## First five rows of CIA Factbook"
   ]
  },
  {
   "cell_type": "code",
   "execution_count": 6,
   "metadata": {},
   "outputs": [
    {
     "name": "stdout",
     "output_type": "stream",
     "text": [
      " * sqlite:///factbook.db\n",
      "Done.\n"
     ]
    },
    {
     "data": {
      "text/html": [
       "<table>\n",
       "    <tr>\n",
       "        <th>id</th>\n",
       "        <th>code</th>\n",
       "        <th>name</th>\n",
       "        <th>area</th>\n",
       "        <th>area_land</th>\n",
       "        <th>area_water</th>\n",
       "        <th>population</th>\n",
       "        <th>population_growth</th>\n",
       "        <th>birth_rate</th>\n",
       "        <th>death_rate</th>\n",
       "        <th>migration_rate</th>\n",
       "    </tr>\n",
       "    <tr>\n",
       "        <td>1</td>\n",
       "        <td>af</td>\n",
       "        <td>Afghanistan</td>\n",
       "        <td>652230</td>\n",
       "        <td>652230</td>\n",
       "        <td>0</td>\n",
       "        <td>32564342</td>\n",
       "        <td>2.32</td>\n",
       "        <td>38.57</td>\n",
       "        <td>13.89</td>\n",
       "        <td>1.51</td>\n",
       "    </tr>\n",
       "    <tr>\n",
       "        <td>2</td>\n",
       "        <td>al</td>\n",
       "        <td>Albania</td>\n",
       "        <td>28748</td>\n",
       "        <td>27398</td>\n",
       "        <td>1350</td>\n",
       "        <td>3029278</td>\n",
       "        <td>0.3</td>\n",
       "        <td>12.92</td>\n",
       "        <td>6.58</td>\n",
       "        <td>3.3</td>\n",
       "    </tr>\n",
       "    <tr>\n",
       "        <td>3</td>\n",
       "        <td>ag</td>\n",
       "        <td>Algeria</td>\n",
       "        <td>2381741</td>\n",
       "        <td>2381741</td>\n",
       "        <td>0</td>\n",
       "        <td>39542166</td>\n",
       "        <td>1.84</td>\n",
       "        <td>23.67</td>\n",
       "        <td>4.31</td>\n",
       "        <td>0.92</td>\n",
       "    </tr>\n",
       "    <tr>\n",
       "        <td>4</td>\n",
       "        <td>an</td>\n",
       "        <td>Andorra</td>\n",
       "        <td>468</td>\n",
       "        <td>468</td>\n",
       "        <td>0</td>\n",
       "        <td>85580</td>\n",
       "        <td>0.12</td>\n",
       "        <td>8.13</td>\n",
       "        <td>6.96</td>\n",
       "        <td>0.0</td>\n",
       "    </tr>\n",
       "    <tr>\n",
       "        <td>5</td>\n",
       "        <td>ao</td>\n",
       "        <td>Angola</td>\n",
       "        <td>1246700</td>\n",
       "        <td>1246700</td>\n",
       "        <td>0</td>\n",
       "        <td>19625353</td>\n",
       "        <td>2.78</td>\n",
       "        <td>38.78</td>\n",
       "        <td>11.49</td>\n",
       "        <td>0.46</td>\n",
       "    </tr>\n",
       "</table>"
      ],
      "text/plain": [
       "[(1, 'af', 'Afghanistan', 652230, 652230, 0, 32564342, 2.32, 38.57, 13.89, 1.51),\n",
       " (2, 'al', 'Albania', 28748, 27398, 1350, 3029278, 0.3, 12.92, 6.58, 3.3),\n",
       " (3, 'ag', 'Algeria', 2381741, 2381741, 0, 39542166, 1.84, 23.67, 4.31, 0.92),\n",
       " (4, 'an', 'Andorra', 468, 468, 0, 85580, 0.12, 8.13, 6.96, 0.0),\n",
       " (5, 'ao', 'Angola', 1246700, 1246700, 0, 19625353, 2.78, 38.78, 11.49, 0.46)]"
      ]
     },
     "execution_count": 6,
     "metadata": {},
     "output_type": "execute_result"
    }
   ],
   "source": [
    "%sql SELECT * FROM facts LIMIT 5;"
   ]
  },
  {
   "cell_type": "markdown",
   "metadata": {},
   "source": [
    "### The number of records"
   ]
  },
  {
   "cell_type": "code",
   "execution_count": 5,
   "metadata": {},
   "outputs": [
    {
     "name": "stdout",
     "output_type": "stream",
     "text": [
      "Done.\n"
     ]
    },
    {
     "data": {
      "text/html": [
       "<table>\n",
       "    <tr>\n",
       "        <th>Number of records</th>\n",
       "        <th>Number of distinct countries</th>\n",
       "    </tr>\n",
       "    <tr>\n",
       "        <td>261</td>\n",
       "        <td>261</td>\n",
       "    </tr>\n",
       "</table>"
      ],
      "text/plain": [
       "[(261, 261)]"
      ]
     },
     "execution_count": 5,
     "metadata": {},
     "output_type": "execute_result"
    }
   ],
   "source": [
    "%%sql \n",
    "SELECT COUNT(*) AS \"Number of records\",\n",
    "COUNT(DISTINCT(name)) AS \"Number of distinct countries\"\n",
    "FROM facts;"
   ]
  },
  {
   "cell_type": "markdown",
   "metadata": {},
   "source": [
    "Each country has its own, unique record"
   ]
  },
  {
   "cell_type": "markdown",
   "metadata": {},
   "source": [
    "### Summary statistics\n",
    "\n",
    "The first task was to find the range for the population and population growth"
   ]
  },
  {
   "cell_type": "code",
   "execution_count": 6,
   "metadata": {
    "scrolled": true
   },
   "outputs": [
    {
     "name": "stdout",
     "output_type": "stream",
     "text": [
      "Done.\n"
     ]
    },
    {
     "data": {
      "text/html": [
       "<table>\n",
       "    <tr>\n",
       "        <th>Smallest population</th>\n",
       "        <th>Largest population</th>\n",
       "        <th>Smallest population growth</th>\n",
       "        <th>Largest population growth</th>\n",
       "    </tr>\n",
       "    <tr>\n",
       "        <td>0</td>\n",
       "        <td>7256490011</td>\n",
       "        <td>0.0</td>\n",
       "        <td>4.02</td>\n",
       "    </tr>\n",
       "</table>"
      ],
      "text/plain": [
       "[(0, 7256490011, 0.0, 4.02)]"
      ]
     },
     "execution_count": 6,
     "metadata": {},
     "output_type": "execute_result"
    }
   ],
   "source": [
    "%%sql\n",
    "SELECT MIN(population) AS \"Smallest population\",\n",
    "        MAX(population) AS \"Largest population\",\n",
    "        MIN(population_growth) AS \"Smallest population growth\",\n",
    "        MAX(population_growth) AS \"Largest population growth\"\n",
    "        FROM facts;"
   ]
  },
  {
   "cell_type": "markdown",
   "metadata": {},
   "source": [
    "Out of the whole database, the lowest population of a country was zero and the highest was over 7 billion. This gave rise to two questions:\n",
    "\n",
    "* How could a country have a population of zero?\n",
    "* How could a country have a population that was equivalent to the current population of the whole world?"
   ]
  },
  {
   "cell_type": "markdown",
   "metadata": {},
   "source": [
    "Upon further examination, it was found that the country with a population of zero is Antarctica. As Antarctica was a country where no-one lived, other than penguins, and the only human inhabitants were temporarily-based research scientists, it made sense to exclude Antartica from further analysis.\n",
    "\n",
    "So the country with the lowest population is the Pitcairn Islands."
   ]
  },
  {
   "cell_type": "code",
   "execution_count": 7,
   "metadata": {},
   "outputs": [
    {
     "name": "stdout",
     "output_type": "stream",
     "text": [
      "Done.\n"
     ]
    },
    {
     "data": {
      "text/html": [
       "<table>\n",
       "    <tr>\n",
       "        <th>name</th>\n",
       "    </tr>\n",
       "    <tr>\n",
       "        <td>Antarctica</td>\n",
       "    </tr>\n",
       "</table>"
      ],
      "text/plain": [
       "[('Antarctica',)]"
      ]
     },
     "execution_count": 7,
     "metadata": {},
     "output_type": "execute_result"
    }
   ],
   "source": [
    "%%sql\n",
    "SELECT name from facts \n",
    "WHERE population = (SELECT MIN(population) FROM facts);"
   ]
  },
  {
   "cell_type": "code",
   "execution_count": 8,
   "metadata": {},
   "outputs": [
    {
     "name": "stdout",
     "output_type": "stream",
     "text": [
      "Done.\n"
     ]
    },
    {
     "data": {
      "text/html": [
       "<table>\n",
       "    <tr>\n",
       "        <th>name</th>\n",
       "    </tr>\n",
       "    <tr>\n",
       "        <td>Pitcairn Islands</td>\n",
       "    </tr>\n",
       "</table>"
      ],
      "text/plain": [
       "[('Pitcairn Islands',)]"
      ]
     },
     "execution_count": 8,
     "metadata": {},
     "output_type": "execute_result"
    }
   ],
   "source": [
    "%%sql\n",
    "SELECT name from facts \n",
    "WHERE population = (SELECT MIN(population) FROM facts\n",
    "                    WHERE name <> \"Antarctica\");"
   ]
  },
  {
   "cell_type": "markdown",
   "metadata": {},
   "source": [
    "Similarly, the \"country\" with the largest population in the CIA Factbook is \"the World\". Again, it did not make sense to include this record in the analysis of countries. So the country with the largest population is China. "
   ]
  },
  {
   "cell_type": "code",
   "execution_count": 9,
   "metadata": {},
   "outputs": [
    {
     "name": "stdout",
     "output_type": "stream",
     "text": [
      "Done.\n"
     ]
    },
    {
     "data": {
      "text/html": [
       "<table>\n",
       "    <tr>\n",
       "        <th>name</th>\n",
       "    </tr>\n",
       "    <tr>\n",
       "        <td>World</td>\n",
       "    </tr>\n",
       "</table>"
      ],
      "text/plain": [
       "[('World',)]"
      ]
     },
     "execution_count": 9,
     "metadata": {},
     "output_type": "execute_result"
    }
   ],
   "source": [
    "%%sql\n",
    "SELECT name from facts \n",
    "WHERE population = (SELECT MAX(population) FROM facts);"
   ]
  },
  {
   "cell_type": "code",
   "execution_count": 10,
   "metadata": {},
   "outputs": [
    {
     "name": "stdout",
     "output_type": "stream",
     "text": [
      "Done.\n"
     ]
    },
    {
     "data": {
      "text/html": [
       "<table>\n",
       "    <tr>\n",
       "        <th>name</th>\n",
       "    </tr>\n",
       "    <tr>\n",
       "        <td>China</td>\n",
       "    </tr>\n",
       "</table>"
      ],
      "text/plain": [
       "[('China',)]"
      ]
     },
     "execution_count": 10,
     "metadata": {},
     "output_type": "execute_result"
    }
   ],
   "source": [
    "%%sql\n",
    "SELECT name from facts \n",
    "WHERE population = (SELECT MAX(population) FROM facts\n",
    "                    WHERE name <> \"World\");"
   ]
  },
  {
   "cell_type": "markdown",
   "metadata": {},
   "source": [
    "The countries with the lowest growth in population, i.e. zero growth, were Vatican City State, Cocos Islands, Greenland and the Pitcairn Islands.\n",
    "\n",
    "The country with the highest growth in population was South Sudan. "
   ]
  },
  {
   "cell_type": "code",
   "execution_count": 11,
   "metadata": {},
   "outputs": [
    {
     "name": "stdout",
     "output_type": "stream",
     "text": [
      "Done.\n"
     ]
    },
    {
     "data": {
      "text/html": [
       "<table>\n",
       "    <tr>\n",
       "        <th>name</th>\n",
       "    </tr>\n",
       "    <tr>\n",
       "        <td>Holy See (Vatican City)</td>\n",
       "    </tr>\n",
       "    <tr>\n",
       "        <td>Cocos (Keeling) Islands</td>\n",
       "    </tr>\n",
       "    <tr>\n",
       "        <td>Greenland</td>\n",
       "    </tr>\n",
       "    <tr>\n",
       "        <td>Pitcairn Islands</td>\n",
       "    </tr>\n",
       "</table>"
      ],
      "text/plain": [
       "[('Holy See (Vatican City)',),\n",
       " ('Cocos (Keeling) Islands',),\n",
       " ('Greenland',),\n",
       " ('Pitcairn Islands',)]"
      ]
     },
     "execution_count": 11,
     "metadata": {},
     "output_type": "execute_result"
    }
   ],
   "source": [
    "%%sql\n",
    "SELECT name from facts \n",
    "WHERE population_growth = (SELECT MIN(population_growth) FROM facts);"
   ]
  },
  {
   "cell_type": "code",
   "execution_count": 12,
   "metadata": {},
   "outputs": [
    {
     "name": "stdout",
     "output_type": "stream",
     "text": [
      "Done.\n"
     ]
    },
    {
     "data": {
      "text/html": [
       "<table>\n",
       "    <tr>\n",
       "        <th>name</th>\n",
       "    </tr>\n",
       "    <tr>\n",
       "        <td>South Sudan</td>\n",
       "    </tr>\n",
       "</table>"
      ],
      "text/plain": [
       "[('South Sudan',)]"
      ]
     },
     "execution_count": 12,
     "metadata": {},
     "output_type": "execute_result"
    }
   ],
   "source": [
    "%%sql\n",
    "SELECT name from facts \n",
    "WHERE population_growth = (SELECT MAX(population_growth) FROM facts);"
   ]
  },
  {
   "cell_type": "markdown",
   "metadata": {},
   "source": [
    "So, excluding the records for Antartica and the World, the range for population and population growth are as follows:"
   ]
  },
  {
   "cell_type": "code",
   "execution_count": 14,
   "metadata": {},
   "outputs": [
    {
     "name": "stdout",
     "output_type": "stream",
     "text": [
      "Done.\n"
     ]
    },
    {
     "data": {
      "text/html": [
       "<table>\n",
       "    <tr>\n",
       "        <th>Smallest population</th>\n",
       "        <th>Largest population</th>\n",
       "        <th>Smallest population growth</th>\n",
       "        <th>Largest population growth</th>\n",
       "    </tr>\n",
       "    <tr>\n",
       "        <td>48</td>\n",
       "        <td>1367485388</td>\n",
       "        <td>0.0</td>\n",
       "        <td>4.02</td>\n",
       "    </tr>\n",
       "</table>"
      ],
      "text/plain": [
       "[(48, 1367485388, 0.0, 4.02)]"
      ]
     },
     "execution_count": 14,
     "metadata": {},
     "output_type": "execute_result"
    }
   ],
   "source": [
    "%%sql\n",
    "SELECT MIN(population) AS \"Smallest population\",\n",
    "        MAX(population) AS \"Largest population\",\n",
    "        MIN(population_growth) AS \"Smallest population growth\",\n",
    "        MAX(population_growth) AS \"Largest population growth\"\n",
    "        FROM facts\n",
    "        WHERE name <> \"World\" AND name <> \"Antarctica\";"
   ]
  },
  {
   "cell_type": "markdown",
   "metadata": {},
   "source": [
    " ### Average population and area"
   ]
  },
  {
   "cell_type": "code",
   "execution_count": 15,
   "metadata": {},
   "outputs": [
    {
     "name": "stdout",
     "output_type": "stream",
     "text": [
      "Done.\n"
     ]
    },
    {
     "data": {
      "text/html": [
       "<table>\n",
       "    <tr>\n",
       "        <th>AVG(population)</th>\n",
       "    </tr>\n",
       "    <tr>\n",
       "        <td>62094928.32231405</td>\n",
       "    </tr>\n",
       "</table>"
      ],
      "text/plain": [
       "[(62094928.32231405,)]"
      ]
     },
     "execution_count": 15,
     "metadata": {},
     "output_type": "execute_result"
    }
   ],
   "source": [
    "%sql SELECT AVG(population) FROM facts"
   ]
  },
  {
   "cell_type": "code",
   "execution_count": 16,
   "metadata": {},
   "outputs": [
    {
     "name": "stdout",
     "output_type": "stream",
     "text": [
      "Done.\n"
     ]
    },
    {
     "data": {
      "text/html": [
       "<table>\n",
       "    <tr>\n",
       "        <th>AVG(area)</th>\n",
       "    </tr>\n",
       "    <tr>\n",
       "        <td>555093.546184739</td>\n",
       "    </tr>\n",
       "</table>"
      ],
      "text/plain": [
       "[(555093.546184739,)]"
      ]
     },
     "execution_count": 16,
     "metadata": {},
     "output_type": "execute_result"
    }
   ],
   "source": [
    "%sql SELECT AVG(area) FROM facts"
   ]
  },
  {
   "cell_type": "markdown",
   "metadata": {},
   "source": [
    "#### Top ten countries with an above-average area and population, in descending order"
   ]
  },
  {
   "cell_type": "code",
   "execution_count": 14,
   "metadata": {},
   "outputs": [
    {
     "name": "stdout",
     "output_type": "stream",
     "text": [
      " * sqlite:///factbook.db\n",
      "Done.\n"
     ]
    },
    {
     "data": {
      "text/html": [
       "<table>\n",
       "    <tr>\n",
       "        <th>name</th>\n",
       "        <th>population</th>\n",
       "        <th>area</th>\n",
       "    </tr>\n",
       "    <tr>\n",
       "        <td>China</td>\n",
       "        <td>1367485388</td>\n",
       "        <td>9596960</td>\n",
       "    </tr>\n",
       "    <tr>\n",
       "        <td>India</td>\n",
       "        <td>1251695584</td>\n",
       "        <td>3287263</td>\n",
       "    </tr>\n",
       "    <tr>\n",
       "        <td>European Union</td>\n",
       "        <td>513949445</td>\n",
       "        <td>4324782</td>\n",
       "    </tr>\n",
       "    <tr>\n",
       "        <td>United States</td>\n",
       "        <td>321368864</td>\n",
       "        <td>9826675</td>\n",
       "    </tr>\n",
       "    <tr>\n",
       "        <td>Indonesia</td>\n",
       "        <td>255993674</td>\n",
       "        <td>1904569</td>\n",
       "    </tr>\n",
       "    <tr>\n",
       "        <td>Brazil</td>\n",
       "        <td>204259812</td>\n",
       "        <td>8515770</td>\n",
       "    </tr>\n",
       "    <tr>\n",
       "        <td>Pakistan</td>\n",
       "        <td>199085847</td>\n",
       "        <td>796095</td>\n",
       "    </tr>\n",
       "    <tr>\n",
       "        <td>Nigeria</td>\n",
       "        <td>181562056</td>\n",
       "        <td>923768</td>\n",
       "    </tr>\n",
       "    <tr>\n",
       "        <td>Russia</td>\n",
       "        <td>142423773</td>\n",
       "        <td>17098242</td>\n",
       "    </tr>\n",
       "    <tr>\n",
       "        <td>Mexico</td>\n",
       "        <td>121736809</td>\n",
       "        <td>1964375</td>\n",
       "    </tr>\n",
       "    <tr>\n",
       "        <td>Ethiopia</td>\n",
       "        <td>99465819</td>\n",
       "        <td>1104300</td>\n",
       "    </tr>\n",
       "    <tr>\n",
       "        <td>Egypt</td>\n",
       "        <td>88487396</td>\n",
       "        <td>1001450</td>\n",
       "    </tr>\n",
       "    <tr>\n",
       "        <td>Iran</td>\n",
       "        <td>81824270</td>\n",
       "        <td>1648195</td>\n",
       "    </tr>\n",
       "    <tr>\n",
       "        <td>Turkey</td>\n",
       "        <td>79414269</td>\n",
       "        <td>783562</td>\n",
       "    </tr>\n",
       "    <tr>\n",
       "        <td>Congo, Democratic Republic of the</td>\n",
       "        <td>79375136</td>\n",
       "        <td>2344858</td>\n",
       "    </tr>\n",
       "    <tr>\n",
       "        <td>France</td>\n",
       "        <td>66553766</td>\n",
       "        <td>643801</td>\n",
       "    </tr>\n",
       "</table>"
      ],
      "text/plain": [
       "[('China', 1367485388, 9596960),\n",
       " ('India', 1251695584, 3287263),\n",
       " ('European Union', 513949445, 4324782),\n",
       " ('United States', 321368864, 9826675),\n",
       " ('Indonesia', 255993674, 1904569),\n",
       " ('Brazil', 204259812, 8515770),\n",
       " ('Pakistan', 199085847, 796095),\n",
       " ('Nigeria', 181562056, 923768),\n",
       " ('Russia', 142423773, 17098242),\n",
       " ('Mexico', 121736809, 1964375),\n",
       " ('Ethiopia', 99465819, 1104300),\n",
       " ('Egypt', 88487396, 1001450),\n",
       " ('Iran', 81824270, 1648195),\n",
       " ('Turkey', 79414269, 783562),\n",
       " ('Congo, Democratic Republic of the', 79375136, 2344858),\n",
       " ('France', 66553766, 643801)]"
      ]
     },
     "execution_count": 14,
     "metadata": {},
     "output_type": "execute_result"
    }
   ],
   "source": [
    "%%sql\n",
    "SELECT name, population, area\n",
    "FROM facts\n",
    "WHERE population > (SELECT AVG(population) FROM facts) AND\n",
    "      area > (SELECT AVG(area) FROM facts)\n",
    "ORDER BY population DESC;"
   ]
  },
  {
   "cell_type": "markdown",
   "metadata": {},
   "source": [
    "It is worth pointing out that the the European Union is included in the list of countries with an above-average area and population. Since the E.U. is not technically a country, but a group of countries, this could also be excluded from further analysis. So the top-ten countries with above-average population and area are:"
   ]
  },
  {
   "cell_type": "code",
   "execution_count": 12,
   "metadata": {},
   "outputs": [
    {
     "name": "stdout",
     "output_type": "stream",
     "text": [
      " * sqlite:///factbook.db\n",
      "Done.\n"
     ]
    },
    {
     "data": {
      "text/html": [
       "<table>\n",
       "    <tr>\n",
       "        <th>name</th>\n",
       "        <th>population</th>\n",
       "        <th>area</th>\n",
       "    </tr>\n",
       "    <tr>\n",
       "        <td>China</td>\n",
       "        <td>1367485388</td>\n",
       "        <td>9596960</td>\n",
       "    </tr>\n",
       "    <tr>\n",
       "        <td>India</td>\n",
       "        <td>1251695584</td>\n",
       "        <td>3287263</td>\n",
       "    </tr>\n",
       "    <tr>\n",
       "        <td>United States</td>\n",
       "        <td>321368864</td>\n",
       "        <td>9826675</td>\n",
       "    </tr>\n",
       "    <tr>\n",
       "        <td>Indonesia</td>\n",
       "        <td>255993674</td>\n",
       "        <td>1904569</td>\n",
       "    </tr>\n",
       "    <tr>\n",
       "        <td>Brazil</td>\n",
       "        <td>204259812</td>\n",
       "        <td>8515770</td>\n",
       "    </tr>\n",
       "    <tr>\n",
       "        <td>Pakistan</td>\n",
       "        <td>199085847</td>\n",
       "        <td>796095</td>\n",
       "    </tr>\n",
       "    <tr>\n",
       "        <td>Nigeria</td>\n",
       "        <td>181562056</td>\n",
       "        <td>923768</td>\n",
       "    </tr>\n",
       "    <tr>\n",
       "        <td>Russia</td>\n",
       "        <td>142423773</td>\n",
       "        <td>17098242</td>\n",
       "    </tr>\n",
       "    <tr>\n",
       "        <td>Mexico</td>\n",
       "        <td>121736809</td>\n",
       "        <td>1964375</td>\n",
       "    </tr>\n",
       "    <tr>\n",
       "        <td>Ethiopia</td>\n",
       "        <td>99465819</td>\n",
       "        <td>1104300</td>\n",
       "    </tr>\n",
       "    <tr>\n",
       "        <td>Egypt</td>\n",
       "        <td>88487396</td>\n",
       "        <td>1001450</td>\n",
       "    </tr>\n",
       "    <tr>\n",
       "        <td>Iran</td>\n",
       "        <td>81824270</td>\n",
       "        <td>1648195</td>\n",
       "    </tr>\n",
       "    <tr>\n",
       "        <td>Turkey</td>\n",
       "        <td>79414269</td>\n",
       "        <td>783562</td>\n",
       "    </tr>\n",
       "    <tr>\n",
       "        <td>Congo, Democratic Republic of the</td>\n",
       "        <td>79375136</td>\n",
       "        <td>2344858</td>\n",
       "    </tr>\n",
       "    <tr>\n",
       "        <td>France</td>\n",
       "        <td>66553766</td>\n",
       "        <td>643801</td>\n",
       "    </tr>\n",
       "</table>"
      ],
      "text/plain": [
       "[('China', 1367485388, 9596960),\n",
       " ('India', 1251695584, 3287263),\n",
       " ('United States', 321368864, 9826675),\n",
       " ('Indonesia', 255993674, 1904569),\n",
       " ('Brazil', 204259812, 8515770),\n",
       " ('Pakistan', 199085847, 796095),\n",
       " ('Nigeria', 181562056, 923768),\n",
       " ('Russia', 142423773, 17098242),\n",
       " ('Mexico', 121736809, 1964375),\n",
       " ('Ethiopia', 99465819, 1104300),\n",
       " ('Egypt', 88487396, 1001450),\n",
       " ('Iran', 81824270, 1648195),\n",
       " ('Turkey', 79414269, 783562),\n",
       " ('Congo, Democratic Republic of the', 79375136, 2344858),\n",
       " ('France', 66553766, 643801)]"
      ]
     },
     "execution_count": 12,
     "metadata": {},
     "output_type": "execute_result"
    }
   ],
   "source": [
    "%%sql\n",
    "SELECT name, population, area\n",
    "FROM facts\n",
    "WHERE population > (SELECT AVG(population) FROM facts) AND\n",
    "      area > (SELECT AVG(area) FROM facts) AND\n",
    "      name <> \"European Union\"\n",
    "ORDER BY population DESC;"
   ]
  },
  {
   "cell_type": "markdown",
   "metadata": {},
   "source": [
    "### Water to land ratio"
   ]
  },
  {
   "cell_type": "markdown",
   "metadata": {},
   "source": [
    "#### Top ten countries by water to land ratio"
   ]
  },
  {
   "cell_type": "code",
   "execution_count": 23,
   "metadata": {
    "scrolled": false
   },
   "outputs": [
    {
     "name": "stdout",
     "output_type": "stream",
     "text": [
      " * sqlite:///factbook.db\n",
      "Done.\n"
     ]
    },
    {
     "data": {
      "text/html": [
       "<table>\n",
       "    <tr>\n",
       "        <th>name</th>\n",
       "        <th>Water to land ratio</th>\n",
       "    </tr>\n",
       "    <tr>\n",
       "        <td>British Indian Ocean Territory</td>\n",
       "        <td>905.6666666666666</td>\n",
       "    </tr>\n",
       "    <tr>\n",
       "        <td>Virgin Islands</td>\n",
       "        <td>4.520231213872832</td>\n",
       "    </tr>\n",
       "    <tr>\n",
       "        <td>Puerto Rico</td>\n",
       "        <td>0.5547914317925592</td>\n",
       "    </tr>\n",
       "    <tr>\n",
       "        <td>Bahamas, The</td>\n",
       "        <td>0.3866133866133866</td>\n",
       "    </tr>\n",
       "    <tr>\n",
       "        <td>Guinea-Bissau</td>\n",
       "        <td>0.2846728307254623</td>\n",
       "    </tr>\n",
       "    <tr>\n",
       "        <td>Malawi</td>\n",
       "        <td>0.25939625850340137</td>\n",
       "    </tr>\n",
       "    <tr>\n",
       "        <td>Netherlands</td>\n",
       "        <td>0.22571032366565366</td>\n",
       "    </tr>\n",
       "    <tr>\n",
       "        <td>Uganda</td>\n",
       "        <td>0.22292237442922375</td>\n",
       "    </tr>\n",
       "    <tr>\n",
       "        <td>Eritrea</td>\n",
       "        <td>0.16435643564356436</td>\n",
       "    </tr>\n",
       "    <tr>\n",
       "        <td>Liberia</td>\n",
       "        <td>0.15623961794019933</td>\n",
       "    </tr>\n",
       "</table>"
      ],
      "text/plain": [
       "[('British Indian Ocean Territory', 905.6666666666666),\n",
       " ('Virgin Islands', 4.520231213872832),\n",
       " ('Puerto Rico', 0.5547914317925592),\n",
       " ('Bahamas, The', 0.3866133866133866),\n",
       " ('Guinea-Bissau', 0.2846728307254623),\n",
       " ('Malawi', 0.25939625850340137),\n",
       " ('Netherlands', 0.22571032366565366),\n",
       " ('Uganda', 0.22292237442922375),\n",
       " ('Eritrea', 0.16435643564356436),\n",
       " ('Liberia', 0.15623961794019933)]"
      ]
     },
     "execution_count": 23,
     "metadata": {},
     "output_type": "execute_result"
    }
   ],
   "source": [
    "%%sql\n",
    "SELECT name, (CAST(area_water AS FLOAT) / CAST(area_land AS FLOAT)) \n",
    "        AS \"Water to land ratio\"\n",
    "FROM facts\n",
    "ORDER BY (CAST(area_water AS FLOAT) / CAST(area_land AS FLOAT)) DESC\n",
    "LIMIT 10;"
   ]
  },
  {
   "cell_type": "markdown",
   "metadata": {},
   "source": [
    "It can be seen that only two countries, British Indian Ocean Territory (aka Chagos Islands) and the Virgin Islands, comprise more water than land. This can be seen from the query below, comparing the actual water area to the actual land area.\n",
    "\n",
    "All the other countries in the Factbook consist of more land than water."
   ]
  },
  {
   "cell_type": "code",
   "execution_count": 28,
   "metadata": {},
   "outputs": [
    {
     "name": "stdout",
     "output_type": "stream",
     "text": [
      "Done.\n"
     ]
    },
    {
     "data": {
      "text/html": [
       "<table>\n",
       "    <tr>\n",
       "        <th>name</th>\n",
       "    </tr>\n",
       "    <tr>\n",
       "        <td>British Indian Ocean Territory</td>\n",
       "    </tr>\n",
       "    <tr>\n",
       "        <td>Virgin Islands</td>\n",
       "    </tr>\n",
       "</table>"
      ],
      "text/plain": [
       "[('British Indian Ocean Territory',), ('Virgin Islands',)]"
      ]
     },
     "execution_count": 28,
     "metadata": {},
     "output_type": "execute_result"
    }
   ],
   "source": [
    "%%sql\n",
    "SELECT name\n",
    "FROM facts\n",
    "WHERE area_water > area_land;"
   ]
  },
  {
   "cell_type": "code",
   "execution_count": null,
   "metadata": {},
   "outputs": [],
   "source": [
    "Eighty-nine countries have a water to land ratio of zero, i.e. none of the area of the country comprises of water features."
   ]
  },
  {
   "cell_type": "code",
   "execution_count": 29,
   "metadata": {},
   "outputs": [
    {
     "name": "stdout",
     "output_type": "stream",
     "text": [
      " * sqlite:///factbook.db\n",
      "Done.\n"
     ]
    },
    {
     "data": {
      "text/html": [
       "<table>\n",
       "    <tr>\n",
       "        <th>COUNT(name)</th>\n",
       "    </tr>\n",
       "    <tr>\n",
       "        <td>89</td>\n",
       "    </tr>\n",
       "</table>"
      ],
      "text/plain": [
       "[(89,)]"
      ]
     },
     "execution_count": 29,
     "metadata": {},
     "output_type": "execute_result"
    }
   ],
   "source": [
    "%%sql\n",
    "SELECT COUNT(name)\n",
    "FROM facts\n",
    "WHERE (CAST(area_water AS FLOAT) / CAST(area_land AS FLOAT)) = 0.0;"
   ]
  },
  {
   "cell_type": "markdown",
   "metadata": {},
   "source": [
    "### Population change"
   ]
  },
  {
   "cell_type": "markdown",
   "metadata": {},
   "source": [
    "A country's population increases in accordance with the birth and migration rate and decreases in accordance with the death rate. It is assumed that the figures for birth rate, death rate and migration rate in the database are percentages. So the query to find out the countries expected to see the largest population increase for the coming are is:"
   ]
  },
  {
   "cell_type": "code",
   "execution_count": 36,
   "metadata": {},
   "outputs": [
    {
     "name": "stdout",
     "output_type": "stream",
     "text": [
      "Done.\n"
     ]
    },
    {
     "data": {
      "text/html": [
       "<table>\n",
       "    <tr>\n",
       "        <th>name</th>\n",
       "        <th>Population increase</th>\n",
       "    </tr>\n",
       "    <tr>\n",
       "        <td>India</td>\n",
       "        <td>153583048.1568</td>\n",
       "    </tr>\n",
       "    <tr>\n",
       "        <td>China</td>\n",
       "        <td>73844210.952</td>\n",
       "    </tr>\n",
       "    <tr>\n",
       "        <td>Nigeria</td>\n",
       "        <td>45317889.177600004</td>\n",
       "    </tr>\n",
       "    <tr>\n",
       "        <td>Pakistan</td>\n",
       "        <td>35098834.82609999</td>\n",
       "    </tr>\n",
       "    <tr>\n",
       "        <td>Indonesia</td>\n",
       "        <td>29464871.877399996</td>\n",
       "    </tr>\n",
       "    <tr>\n",
       "        <td>Ethiopia</td>\n",
       "        <td>29143484.967000004</td>\n",
       "    </tr>\n",
       "    <tr>\n",
       "        <td>Bangladesh</td>\n",
       "        <td>27016343.4255</td>\n",
       "    </tr>\n",
       "    <tr>\n",
       "        <td>United States</td>\n",
       "        <td>26352246.847999997</td>\n",
       "    </tr>\n",
       "    <tr>\n",
       "        <td>Philippines</td>\n",
       "        <td>20452171.14</td>\n",
       "    </tr>\n",
       "    <tr>\n",
       "        <td>Congo, Democratic Republic of the</td>\n",
       "        <td>19907284.1088</td>\n",
       "    </tr>\n",
       "</table>"
      ],
      "text/plain": [
       "[('India', 153583048.1568),\n",
       " ('China', 73844210.952),\n",
       " ('Nigeria', 45317889.177600004),\n",
       " ('Pakistan', 35098834.82609999),\n",
       " ('Indonesia', 29464871.877399996),\n",
       " ('Ethiopia', 29143484.967000004),\n",
       " ('Bangladesh', 27016343.4255),\n",
       " ('United States', 26352246.847999997),\n",
       " ('Philippines', 20452171.14),\n",
       " ('Congo, Democratic Republic of the', 19907284.1088)]"
      ]
     },
     "execution_count": 36,
     "metadata": {},
     "output_type": "execute_result"
    }
   ],
   "source": [
    "%%sql\n",
    "SELECT name, ((birth_rate - death_rate + migration_rate) / 100) * population\n",
    "        AS \"Population increase\"\n",
    "FROM facts\n",
    "ORDER BY ((birth_rate - death_rate + migration_rate) / 100) * population DESC\n",
    "LIMIT 10;"
   ]
  },
  {
   "cell_type": "markdown",
   "metadata": {},
   "source": [
    "I was particularly interested to find out which countries are likely to see decreases in population.\n",
    "\n",
    "In the first instance, these would be countries where the death rate is bigger than the birth rate. There are 24 such countries."
   ]
  },
  {
   "cell_type": "code",
   "execution_count": 45,
   "metadata": {},
   "outputs": [
    {
     "name": "stdout",
     "output_type": "stream",
     "text": [
      "Done.\n"
     ]
    },
    {
     "data": {
      "text/html": [
       "<table>\n",
       "    <tr>\n",
       "        <th>COUNT(name)</th>\n",
       "    </tr>\n",
       "    <tr>\n",
       "        <td>24</td>\n",
       "    </tr>\n",
       "</table>"
      ],
      "text/plain": [
       "[(24,)]"
      ]
     },
     "execution_count": 45,
     "metadata": {},
     "output_type": "execute_result"
    }
   ],
   "source": [
    "%%sql\n",
    "SELECT COUNT(name)\n",
    "FROM facts\n",
    "WHERE death_rate > birth_rate;"
   ]
  },
  {
   "cell_type": "code",
   "execution_count": 33,
   "metadata": {
    "scrolled": true
   },
   "outputs": [
    {
     "name": "stdout",
     "output_type": "stream",
     "text": [
      " * sqlite:///factbook.db\n",
      "Done.\n"
     ]
    },
    {
     "data": {
      "text/html": [
       "<table>\n",
       "    <tr>\n",
       "        <th>name</th>\n",
       "    </tr>\n",
       "    <tr>\n",
       "        <td>Austria</td>\n",
       "    </tr>\n",
       "    <tr>\n",
       "        <td>Belarus</td>\n",
       "    </tr>\n",
       "    <tr>\n",
       "        <td>Bosnia and Herzegovina</td>\n",
       "    </tr>\n",
       "    <tr>\n",
       "        <td>Bulgaria</td>\n",
       "    </tr>\n",
       "    <tr>\n",
       "        <td>Croatia</td>\n",
       "    </tr>\n",
       "    <tr>\n",
       "        <td>Czech Republic</td>\n",
       "    </tr>\n",
       "    <tr>\n",
       "        <td>Estonia</td>\n",
       "    </tr>\n",
       "    <tr>\n",
       "        <td>Germany</td>\n",
       "    </tr>\n",
       "    <tr>\n",
       "        <td>Greece</td>\n",
       "    </tr>\n",
       "    <tr>\n",
       "        <td>Hungary</td>\n",
       "    </tr>\n",
       "    <tr>\n",
       "        <td>Italy</td>\n",
       "    </tr>\n",
       "    <tr>\n",
       "        <td>Japan</td>\n",
       "    </tr>\n",
       "    <tr>\n",
       "        <td>Latvia</td>\n",
       "    </tr>\n",
       "    <tr>\n",
       "        <td>Lithuania</td>\n",
       "    </tr>\n",
       "    <tr>\n",
       "        <td>Moldova</td>\n",
       "    </tr>\n",
       "    <tr>\n",
       "        <td>Monaco</td>\n",
       "    </tr>\n",
       "    <tr>\n",
       "        <td>Poland</td>\n",
       "    </tr>\n",
       "    <tr>\n",
       "        <td>Portugal</td>\n",
       "    </tr>\n",
       "    <tr>\n",
       "        <td>Romania</td>\n",
       "    </tr>\n",
       "    <tr>\n",
       "        <td>Russia</td>\n",
       "    </tr>\n",
       "    <tr>\n",
       "        <td>Serbia</td>\n",
       "    </tr>\n",
       "    <tr>\n",
       "        <td>Slovenia</td>\n",
       "    </tr>\n",
       "    <tr>\n",
       "        <td>Ukraine</td>\n",
       "    </tr>\n",
       "    <tr>\n",
       "        <td>Saint Pierre and Miquelon</td>\n",
       "    </tr>\n",
       "</table>"
      ],
      "text/plain": [
       "[('Austria',),\n",
       " ('Belarus',),\n",
       " ('Bosnia and Herzegovina',),\n",
       " ('Bulgaria',),\n",
       " ('Croatia',),\n",
       " ('Czech Republic',),\n",
       " ('Estonia',),\n",
       " ('Germany',),\n",
       " ('Greece',),\n",
       " ('Hungary',),\n",
       " ('Italy',),\n",
       " ('Japan',),\n",
       " ('Latvia',),\n",
       " ('Lithuania',),\n",
       " ('Moldova',),\n",
       " ('Monaco',),\n",
       " ('Poland',),\n",
       " ('Portugal',),\n",
       " ('Romania',),\n",
       " ('Russia',),\n",
       " ('Serbia',),\n",
       " ('Slovenia',),\n",
       " ('Ukraine',),\n",
       " ('Saint Pierre and Miquelon',)]"
      ]
     },
     "execution_count": 33,
     "metadata": {},
     "output_type": "execute_result"
    }
   ],
   "source": [
    "%%sql\n",
    "SELECT name\n",
    "FROM facts\n",
    "WHERE death_rate > birth_rate;"
   ]
  },
  {
   "cell_type": "markdown",
   "metadata": {},
   "source": [
    "The problem with simply comparing death rate and birth rate alone is that birth rate is not the only factor that contributes to population increase. Migration rate also has a role to play. So I then amended the above query to search for the countries where the death rate was higher than the birth and migration rates combined.\n",
    "\n",
    "There were 13 such countries.\n",
    "\n",
    "Apart from Japan, they were all in Central and Eastern Europe."
   ]
  },
  {
   "cell_type": "code",
   "execution_count": 47,
   "metadata": {},
   "outputs": [
    {
     "name": "stdout",
     "output_type": "stream",
     "text": [
      "Done.\n"
     ]
    },
    {
     "data": {
      "text/html": [
       "<table>\n",
       "    <tr>\n",
       "        <th>COUNT(name)</th>\n",
       "    </tr>\n",
       "    <tr>\n",
       "        <td>13</td>\n",
       "    </tr>\n",
       "</table>"
      ],
      "text/plain": [
       "[(13,)]"
      ]
     },
     "execution_count": 47,
     "metadata": {},
     "output_type": "execute_result"
    }
   ],
   "source": [
    "%%sql\n",
    "SELECT COUNT(name)\n",
    "FROM facts\n",
    "WHERE death_rate > (birth_rate + migration_rate)"
   ]
  },
  {
   "cell_type": "code",
   "execution_count": 50,
   "metadata": {},
   "outputs": [
    {
     "name": "stdout",
     "output_type": "stream",
     "text": [
      "Done.\n"
     ]
    },
    {
     "data": {
      "text/html": [
       "<table>\n",
       "    <tr>\n",
       "        <th>name</th>\n",
       "    </tr>\n",
       "    <tr>\n",
       "        <td>Belarus</td>\n",
       "    </tr>\n",
       "    <tr>\n",
       "        <td>Bosnia and Herzegovina</td>\n",
       "    </tr>\n",
       "    <tr>\n",
       "        <td>Bulgaria</td>\n",
       "    </tr>\n",
       "    <tr>\n",
       "        <td>Croatia</td>\n",
       "    </tr>\n",
       "    <tr>\n",
       "        <td>Germany</td>\n",
       "    </tr>\n",
       "    <tr>\n",
       "        <td>Greece</td>\n",
       "    </tr>\n",
       "    <tr>\n",
       "        <td>Hungary</td>\n",
       "    </tr>\n",
       "    <tr>\n",
       "        <td>Japan</td>\n",
       "    </tr>\n",
       "    <tr>\n",
       "        <td>Romania</td>\n",
       "    </tr>\n",
       "    <tr>\n",
       "        <td>Russia</td>\n",
       "    </tr>\n",
       "    <tr>\n",
       "        <td>Serbia</td>\n",
       "    </tr>\n",
       "    <tr>\n",
       "        <td>Slovenia</td>\n",
       "    </tr>\n",
       "    <tr>\n",
       "        <td>Ukraine</td>\n",
       "    </tr>\n",
       "</table>"
      ],
      "text/plain": [
       "[('Belarus',),\n",
       " ('Bosnia and Herzegovina',),\n",
       " ('Bulgaria',),\n",
       " ('Croatia',),\n",
       " ('Germany',),\n",
       " ('Greece',),\n",
       " ('Hungary',),\n",
       " ('Japan',),\n",
       " ('Romania',),\n",
       " ('Russia',),\n",
       " ('Serbia',),\n",
       " ('Slovenia',),\n",
       " ('Ukraine',)]"
      ]
     },
     "execution_count": 50,
     "metadata": {},
     "output_type": "execute_result"
    }
   ],
   "source": [
    "%%sql\n",
    "SELECT name\n",
    "FROM facts\n",
    "WHERE death_rate > (birth_rate + migration_rate);"
   ]
  },
  {
   "cell_type": "markdown",
   "metadata": {},
   "source": [
    "Finally, it would be interesting to see in how many countries migration rate has a bigger impact on population increase than birth rate"
   ]
  },
  {
   "cell_type": "code",
   "execution_count": 34,
   "metadata": {},
   "outputs": [
    {
     "name": "stdout",
     "output_type": "stream",
     "text": [
      " * sqlite:///factbook.db\n",
      "Done.\n"
     ]
    },
    {
     "data": {
      "text/html": [
       "<table>\n",
       "    <tr>\n",
       "        <th>name</th>\n",
       "    </tr>\n",
       "    <tr>\n",
       "        <td>Luxembourg</td>\n",
       "    </tr>\n",
       "    <tr>\n",
       "        <td>Micronesia, Federated States of</td>\n",
       "    </tr>\n",
       "    <tr>\n",
       "        <td>Qatar</td>\n",
       "    </tr>\n",
       "    <tr>\n",
       "        <td>Singapore</td>\n",
       "    </tr>\n",
       "    <tr>\n",
       "        <td>Saint Pierre and Miquelon</td>\n",
       "    </tr>\n",
       "    <tr>\n",
       "        <td>British Virgin Islands</td>\n",
       "    </tr>\n",
       "    <tr>\n",
       "        <td>Cayman Islands</td>\n",
       "    </tr>\n",
       "</table>"
      ],
      "text/plain": [
       "[('Luxembourg',),\n",
       " ('Micronesia, Federated States of',),\n",
       " ('Qatar',),\n",
       " ('Singapore',),\n",
       " ('Saint Pierre and Miquelon',),\n",
       " ('British Virgin Islands',),\n",
       " ('Cayman Islands',)]"
      ]
     },
     "execution_count": 34,
     "metadata": {},
     "output_type": "execute_result"
    }
   ],
   "source": [
    "%%sql\n",
    "SELECT name\n",
    "FROM facts\n",
    "WHERE birth_rate < migration_rate;"
   ]
  },
  {
   "cell_type": "markdown",
   "metadata": {},
   "source": [
    "There are only seven countries in the world where migration rate has a bigger impact on population increase than the birth rate. In all other countries, birth rate has a bigger impact than migration rate."
   ]
  },
  {
   "cell_type": "markdown",
   "metadata": {},
   "source": [
    "###  Countries with largest population densities"
   ]
  },
  {
   "cell_type": "markdown",
   "metadata": {},
   "source": [
    "China, India, Russia and the United States may be some of the countries with the largest populations but they also take up a lot of geographic area. So, the population may be further apart. The interesting question is in which countries are there high populations crammed into small geographic areas."
   ]
  },
  {
   "cell_type": "code",
   "execution_count": 39,
   "metadata": {},
   "outputs": [
    {
     "name": "stdout",
     "output_type": "stream",
     "text": [
      "Done.\n"
     ]
    },
    {
     "data": {
      "text/html": [
       "<table>\n",
       "    <tr>\n",
       "        <th>name</th>\n",
       "        <th>Population to Area ratio</th>\n",
       "    </tr>\n",
       "    <tr>\n",
       "        <td>Macau</td>\n",
       "        <td>21168.964285714286</td>\n",
       "    </tr>\n",
       "    <tr>\n",
       "        <td>Monaco</td>\n",
       "        <td>15267.5</td>\n",
       "    </tr>\n",
       "    <tr>\n",
       "        <td>Singapore</td>\n",
       "        <td>8141.279770444763</td>\n",
       "    </tr>\n",
       "    <tr>\n",
       "        <td>Hong Kong</td>\n",
       "        <td>6445.041516245487</td>\n",
       "    </tr>\n",
       "    <tr>\n",
       "        <td>Gaza Strip</td>\n",
       "        <td>5191.819444444444</td>\n",
       "    </tr>\n",
       "    <tr>\n",
       "        <td>Gibraltar</td>\n",
       "        <td>4876.333333333333</td>\n",
       "    </tr>\n",
       "    <tr>\n",
       "        <td>Bahrain</td>\n",
       "        <td>1771.8592105263158</td>\n",
       "    </tr>\n",
       "    <tr>\n",
       "        <td>Maldives</td>\n",
       "        <td>1319.6409395973155</td>\n",
       "    </tr>\n",
       "    <tr>\n",
       "        <td>Malta</td>\n",
       "        <td>1310.01582278481</td>\n",
       "    </tr>\n",
       "    <tr>\n",
       "        <td>Bermuda</td>\n",
       "        <td>1299.9259259259259</td>\n",
       "    </tr>\n",
       "</table>"
      ],
      "text/plain": [
       "[('Macau', 21168.964285714286),\n",
       " ('Monaco', 15267.5),\n",
       " ('Singapore', 8141.279770444763),\n",
       " ('Hong Kong', 6445.041516245487),\n",
       " ('Gaza Strip', 5191.819444444444),\n",
       " ('Gibraltar', 4876.333333333333),\n",
       " ('Bahrain', 1771.8592105263158),\n",
       " ('Maldives', 1319.6409395973155),\n",
       " ('Malta', 1310.01582278481),\n",
       " ('Bermuda', 1299.9259259259259)]"
      ]
     },
     "execution_count": 39,
     "metadata": {},
     "output_type": "execute_result"
    }
   ],
   "source": [
    "%%sql\n",
    "SELECT name, (CAST(population AS FLOAT) / CAST(area AS FLOAT)) AS \"Population to Area ratio\"\n",
    "FROM facts\n",
    "ORDER BY (CAST(population AS FLOAT) / CAST(area AS FLOAT)) DESC\n",
    "LIMIT 10;"
   ]
  },
  {
   "cell_type": "markdown",
   "metadata": {},
   "source": [
    "It is interesting to note that the countries with largest population densities are all tiny in a geographic sense.\n",
    "\n",
    "The average population to area ration is:"
   ]
  },
  {
   "cell_type": "code",
   "execution_count": 7,
   "metadata": {},
   "outputs": [
    {
     "name": "stdout",
     "output_type": "stream",
     "text": [
      " * sqlite:///factbook.db\n",
      "Done.\n"
     ]
    },
    {
     "data": {
      "text/html": [
       "<table>\n",
       "    <tr>\n",
       "        <th>Average Population to Area ratio</th>\n",
       "    </tr>\n",
       "    <tr>\n",
       "        <td>419.66252469247945</td>\n",
       "    </tr>\n",
       "</table>"
      ],
      "text/plain": [
       "[(419.66252469247945,)]"
      ]
     },
     "execution_count": 7,
     "metadata": {},
     "output_type": "execute_result"
    }
   ],
   "source": [
    "%%sql\n",
    "SELECT AVG(CAST(population AS FLOAT) / CAST(area AS FLOAT)) AS \"Average Population to Area ratio\"\n",
    "FROM facts"
   ]
  },
  {
   "cell_type": "markdown",
   "metadata": {},
   "source": [
    "It is interesting that India, despite having one of the largest populations and area in the world, actually has a below-average population to area ratio.  \n",
    "\n",
    "Most of the countries with below-average population to area ratios appear to be have small countries and islands or island archipelagos.\n",
    "\n",
    "It is interesting to note that the United Kingdom, and the European Union as a whole - despite grumblings about influx of migrants - actually have below-average population to area ratios."
   ]
  },
  {
   "cell_type": "code",
   "execution_count": 15,
   "metadata": {},
   "outputs": [
    {
     "name": "stdout",
     "output_type": "stream",
     "text": [
      " * sqlite:///factbook.db\n",
      "Done.\n"
     ]
    },
    {
     "data": {
      "text/html": [
       "<table>\n",
       "    <tr>\n",
       "        <th>name</th>\n",
       "        <th>Population to Area ratio</th>\n",
       "    </tr>\n",
       "    <tr>\n",
       "        <td>Tuvalu</td>\n",
       "        <td>418.03846153846155</td>\n",
       "    </tr>\n",
       "    <tr>\n",
       "        <td>Netherlands</td>\n",
       "        <td>407.96052283176465</td>\n",
       "    </tr>\n",
       "    <tr>\n",
       "        <td>Marshall Islands</td>\n",
       "        <td>398.8453038674033</td>\n",
       "    </tr>\n",
       "    <tr>\n",
       "        <td>Israel</td>\n",
       "        <td>387.5452094366875</td>\n",
       "    </tr>\n",
       "    <tr>\n",
       "        <td>Burundi</td>\n",
       "        <td>385.99626302551206</td>\n",
       "    </tr>\n",
       "    <tr>\n",
       "        <td>India</td>\n",
       "        <td>380.7713541630226</td>\n",
       "    </tr>\n",
       "    <tr>\n",
       "        <td>Belgium</td>\n",
       "        <td>370.9372707023061</td>\n",
       "    </tr>\n",
       "    <tr>\n",
       "        <td>Haiti</td>\n",
       "        <td>364.325009009009</td>\n",
       "    </tr>\n",
       "    <tr>\n",
       "        <td>Comoros</td>\n",
       "        <td>349.42774049217</td>\n",
       "    </tr>\n",
       "    <tr>\n",
       "        <td>Philippines</td>\n",
       "        <td>336.6612533333333</td>\n",
       "    </tr>\n",
       "    <tr>\n",
       "        <td>Sri Lanka</td>\n",
       "        <td>336.12998018594726</td>\n",
       "    </tr>\n",
       "    <tr>\n",
       "        <td>Japan</td>\n",
       "        <td>335.8418136353413</td>\n",
       "    </tr>\n",
       "    <tr>\n",
       "        <td>Curacao</td>\n",
       "        <td>334.2477477477477</td>\n",
       "    </tr>\n",
       "    <tr>\n",
       "        <td>Grenada</td>\n",
       "        <td>321.7848837209302</td>\n",
       "    </tr>\n",
       "    <tr>\n",
       "        <td>Guam</td>\n",
       "        <td>297.39889705882354</td>\n",
       "    </tr>\n",
       "    <tr>\n",
       "        <td>El Salvador</td>\n",
       "        <td>291.8753861508483</td>\n",
       "    </tr>\n",
       "    <tr>\n",
       "        <td>Vietnam</td>\n",
       "        <td>284.8610700160019</td>\n",
       "    </tr>\n",
       "    <tr>\n",
       "        <td>American Samoa</td>\n",
       "        <td>273.08040201005025</td>\n",
       "    </tr>\n",
       "    <tr>\n",
       "        <td>Jamaica</td>\n",
       "        <td>268.4205258848148</td>\n",
       "    </tr>\n",
       "    <tr>\n",
       "        <td>Saint Lucia</td>\n",
       "        <td>266.10714285714283</td>\n",
       "    </tr>\n",
       "    <tr>\n",
       "        <td>Saint Vincent and the Grenadines</td>\n",
       "        <td>263.82262210796915</td>\n",
       "    </tr>\n",
       "    <tr>\n",
       "        <td>United Kingdom</td>\n",
       "        <td>263.0771396904889</td>\n",
       "    </tr>\n",
       "    <tr>\n",
       "        <td>Puerto Rico</td>\n",
       "        <td>260.92067290261764</td>\n",
       "    </tr>\n",
       "    <tr>\n",
       "        <td>Pakistan</td>\n",
       "        <td>250.07800199724906</td>\n",
       "    </tr>\n",
       "    <tr>\n",
       "        <td>Trinidad and Tobago</td>\n",
       "        <td>238.3703198127925</td>\n",
       "    </tr>\n",
       "    <tr>\n",
       "        <td>Liechtenstein</td>\n",
       "        <td>235.15</td>\n",
       "    </tr>\n",
       "    <tr>\n",
       "        <td>Germany</td>\n",
       "        <td>226.4689795026637</td>\n",
       "    </tr>\n",
       "    <tr>\n",
       "        <td>British Virgin Islands</td>\n",
       "        <td>221.5496688741722</td>\n",
       "    </tr>\n",
       "    <tr>\n",
       "        <td>Luxembourg</td>\n",
       "        <td>220.51508120649652</td>\n",
       "    </tr>\n",
       "    <tr>\n",
       "        <td>Dominican Republic</td>\n",
       "        <td>215.3021573864804</td>\n",
       "    </tr>\n",
       "    <tr>\n",
       "        <td>Nepal</td>\n",
       "        <td>214.3707747603291</td>\n",
       "    </tr>\n",
       "    <tr>\n",
       "        <td>Cayman Islands</td>\n",
       "        <td>212.46969696969697</td>\n",
       "    </tr>\n",
       "    <tr>\n",
       "        <td>Antigua and Barbuda</td>\n",
       "        <td>209.13122171945702</td>\n",
       "    </tr>\n",
       "    <tr>\n",
       "        <td>Korea, North</td>\n",
       "        <td>207.26414076888616</td>\n",
       "    </tr>\n",
       "    <tr>\n",
       "        <td>Italy</td>\n",
       "        <td>205.26687462666754</td>\n",
       "    </tr>\n",
       "    <tr>\n",
       "        <td>Seychelles</td>\n",
       "        <td>203.14285714285714</td>\n",
       "    </tr>\n",
       "    <tr>\n",
       "        <td>Sao Tome and Principe</td>\n",
       "        <td>201.25103734439833</td>\n",
       "    </tr>\n",
       "    <tr>\n",
       "        <td>Saint Kitts and Nevis</td>\n",
       "        <td>198.98850574712642</td>\n",
       "    </tr>\n",
       "    <tr>\n",
       "        <td>Switzerland</td>\n",
       "        <td>196.76405746541658</td>\n",
       "    </tr>\n",
       "    <tr>\n",
       "        <td>Nigeria</td>\n",
       "        <td>196.5450805830035</td>\n",
       "    </tr>\n",
       "    <tr>\n",
       "        <td>Qatar</td>\n",
       "        <td>189.43699292249266</td>\n",
       "    </tr>\n",
       "    <tr>\n",
       "        <td>Andorra</td>\n",
       "        <td>182.86324786324786</td>\n",
       "    </tr>\n",
       "    <tr>\n",
       "        <td>Anguilla</td>\n",
       "        <td>180.41758241758242</td>\n",
       "    </tr>\n",
       "    <tr>\n",
       "        <td>Gambia, The</td>\n",
       "        <td>174.13353982300885</td>\n",
       "    </tr>\n",
       "    <tr>\n",
       "        <td>Kosovo</td>\n",
       "        <td>171.8545972260494</td>\n",
       "    </tr>\n",
       "    <tr>\n",
       "        <td>Kuwait</td>\n",
       "        <td>156.50095409136827</td>\n",
       "    </tr>\n",
       "    <tr>\n",
       "        <td>Uganda</td>\n",
       "        <td>153.92487906471177</td>\n",
       "    </tr>\n",
       "    <tr>\n",
       "        <td>Isle of Man</td>\n",
       "        <td>153.0506993006993</td>\n",
       "    </tr>\n",
       "    <tr>\n",
       "        <td>Malawi</td>\n",
       "        <td>151.62129063839842</td>\n",
       "    </tr>\n",
       "    <tr>\n",
       "        <td>Micronesia, Federated States of</td>\n",
       "        <td>149.8803418803419</td>\n",
       "    </tr>\n",
       "    <tr>\n",
       "        <td>Tonga</td>\n",
       "        <td>142.57161981258366</td>\n",
       "    </tr>\n",
       "    <tr>\n",
       "        <td>China</td>\n",
       "        <td>142.4915168970174</td>\n",
       "    </tr>\n",
       "    <tr>\n",
       "        <td>Guatemala</td>\n",
       "        <td>137.01107549890256</td>\n",
       "    </tr>\n",
       "    <tr>\n",
       "        <td>Cabo Verde</td>\n",
       "        <td>135.3813538308951</td>\n",
       "    </tr>\n",
       "    <tr>\n",
       "        <td>Czech Republic</td>\n",
       "        <td>134.97206689743493</td>\n",
       "    </tr>\n",
       "    <tr>\n",
       "        <td>Indonesia</td>\n",
       "        <td>134.41029125224657</td>\n",
       "    </tr>\n",
       "    <tr>\n",
       "        <td>Togo</td>\n",
       "        <td>132.99846790525666</td>\n",
       "    </tr>\n",
       "    <tr>\n",
       "        <td>Thailand</td>\n",
       "        <td>132.47662340193327</td>\n",
       "    </tr>\n",
       "    <tr>\n",
       "        <td>Kiribati</td>\n",
       "        <td>130.34648581997533</td>\n",
       "    </tr>\n",
       "    <tr>\n",
       "        <td>Denmark</td>\n",
       "        <td>129.51926022184063</td>\n",
       "    </tr>\n",
       "    <tr>\n",
       "        <td>Cyprus</td>\n",
       "        <td>128.54794076316074</td>\n",
       "    </tr>\n",
       "    <tr>\n",
       "        <td>Akrotiri</td>\n",
       "        <td>127.64227642276423</td>\n",
       "    </tr>\n",
       "    <tr>\n",
       "        <td>Poland</td>\n",
       "        <td>123.3259958104802</td>\n",
       "    </tr>\n",
       "    <tr>\n",
       "        <td>Dhekelia</td>\n",
       "        <td>120.76923076923077</td>\n",
       "    </tr>\n",
       "    <tr>\n",
       "        <td>European Union</td>\n",
       "        <td>118.83823161491145</td>\n",
       "    </tr>\n",
       "    <tr>\n",
       "        <td>Portugal</td>\n",
       "        <td>117.5514062330329</td>\n",
       "    </tr>\n",
       "    <tr>\n",
       "        <td>Azerbaijan</td>\n",
       "        <td>112.94203233256351</td>\n",
       "    </tr>\n",
       "    <tr>\n",
       "        <td>Northern Mariana Islands</td>\n",
       "        <td>112.8103448275862</td>\n",
       "    </tr>\n",
       "    <tr>\n",
       "        <td>Tokelau</td>\n",
       "        <td>111.41666666666667</td>\n",
       "    </tr>\n",
       "    <tr>\n",
       "        <td>Slovakia</td>\n",
       "        <td>111.04368308351178</td>\n",
       "    </tr>\n",
       "    <tr>\n",
       "        <td>Ghana</td>\n",
       "        <td>110.37319364616216</td>\n",
       "    </tr>\n",
       "    <tr>\n",
       "        <td>Wallis and Futuna</td>\n",
       "        <td>109.95070422535211</td>\n",
       "    </tr>\n",
       "    <tr>\n",
       "        <td>Hungary</td>\n",
       "        <td>106.3931396998753</td>\n",
       "    </tr>\n",
       "    <tr>\n",
       "        <td>Albania</td>\n",
       "        <td>105.37352163628775</td>\n",
       "    </tr>\n",
       "    <tr>\n",
       "        <td>Moldova</td>\n",
       "        <td>104.77820448435793</td>\n",
       "    </tr>\n",
       "    <tr>\n",
       "        <td>France</td>\n",
       "        <td>103.37630106197412</td>\n",
       "    </tr>\n",
       "    <tr>\n",
       "        <td>Austria</td>\n",
       "        <td>103.31997949231558</td>\n",
       "    </tr>\n",
       "    <tr>\n",
       "        <td>Armenia</td>\n",
       "        <td>102.75970816662745</td>\n",
       "    </tr>\n",
       "    <tr>\n",
       "        <td>Turkey</td>\n",
       "        <td>101.35033220089795</td>\n",
       "    </tr>\n",
       "    <tr>\n",
       "        <td>Cuba</td>\n",
       "        <td>99.50778459318059</td>\n",
       "    </tr>\n",
       "    <tr>\n",
       "        <td>Dominica</td>\n",
       "        <td>98.01198402130493</td>\n",
       "    </tr>\n",
       "    <tr>\n",
       "        <td>Slovenia</td>\n",
       "        <td>97.8351501997731</td>\n",
       "    </tr>\n",
       "    <tr>\n",
       "        <td>Spain</td>\n",
       "        <td>95.26907810119319</td>\n",
       "    </tr>\n",
       "    <tr>\n",
       "        <td>Costa Rica</td>\n",
       "        <td>94.21025440313112</td>\n",
       "    </tr>\n",
       "    <tr>\n",
       "        <td>Benin</td>\n",
       "        <td>92.77625153167232</td>\n",
       "    </tr>\n",
       "    <tr>\n",
       "        <td>Serbia</td>\n",
       "        <td>92.63487105351473</td>\n",
       "    </tr>\n",
       "    <tr>\n",
       "        <td>Malaysia</td>\n",
       "        <td>92.50909664177634</td>\n",
       "    </tr>\n",
       "    <tr>\n",
       "        <td>Syria</td>\n",
       "        <td>92.1527918781726</td>\n",
       "    </tr>\n",
       "    <tr>\n",
       "        <td>Romania</td>\n",
       "        <td>90.88577169440121</td>\n",
       "    </tr>\n",
       "    <tr>\n",
       "        <td>Jordan</td>\n",
       "        <td>90.85943900964831</td>\n",
       "    </tr>\n",
       "    <tr>\n",
       "        <td>Ethiopia</td>\n",
       "        <td>90.0713746264602</td>\n",
       "    </tr>\n",
       "    <tr>\n",
       "        <td>Egypt</td>\n",
       "        <td>88.3592750511758</td>\n",
       "    </tr>\n",
       "    <tr>\n",
       "        <td>Cambodia</td>\n",
       "        <td>86.77192808020548</td>\n",
       "    </tr>\n",
       "    <tr>\n",
       "        <td>Iraq</td>\n",
       "        <td>84.5419388250969</td>\n",
       "    </tr>\n",
       "    <tr>\n",
       "        <td>Burma</td>\n",
       "        <td>83.24273919636761</td>\n",
       "    </tr>\n",
       "    <tr>\n",
       "        <td>Timor-Leste</td>\n",
       "        <td>82.76966518757564</td>\n",
       "    </tr>\n",
       "    <tr>\n",
       "        <td>Swaziland</td>\n",
       "        <td>82.67755125547109</td>\n",
       "    </tr>\n",
       "    <tr>\n",
       "        <td>Sierra Leone</td>\n",
       "        <td>81.9500696961249</td>\n",
       "    </tr>\n",
       "    <tr>\n",
       "        <td>Greece</td>\n",
       "        <td>81.66026053941815</td>\n",
       "    </tr>\n",
       "    <tr>\n",
       "        <td>Macedonia</td>\n",
       "        <td>81.51577023295609</td>\n",
       "    </tr>\n",
       "    <tr>\n",
       "        <td>Kenya</td>\n",
       "        <td>79.1314823206695</td>\n",
       "    </tr>\n",
       "    <tr>\n",
       "        <td>Croatia</td>\n",
       "        <td>78.89253277732622</td>\n",
       "    </tr>\n",
       "    <tr>\n",
       "        <td>Honduras</td>\n",
       "        <td>78.03258988312963</td>\n",
       "    </tr>\n",
       "    <tr>\n",
       "        <td>Bosnia and Herzegovina</td>\n",
       "        <td>75.53284372131179</td>\n",
       "    </tr>\n",
       "    <tr>\n",
       "        <td>Morocco</td>\n",
       "        <td>74.6225484268279</td>\n",
       "    </tr>\n",
       "    <tr>\n",
       "        <td>Brunei</td>\n",
       "        <td>74.5266261925412</td>\n",
       "    </tr>\n",
       "    <tr>\n",
       "        <td>Ukraine</td>\n",
       "        <td>73.61357136939773</td>\n",
       "    </tr>\n",
       "    <tr>\n",
       "        <td>Cote d&#x27;Ivoire</td>\n",
       "        <td>72.2417827781792</td>\n",
       "    </tr>\n",
       "    <tr>\n",
       "        <td>Senegal</td>\n",
       "        <td>71.0435741808237</td>\n",
       "    </tr>\n",
       "    <tr>\n",
       "        <td>Georgia</td>\n",
       "        <td>70.74929698708752</td>\n",
       "    </tr>\n",
       "    <tr>\n",
       "        <td>Samoa</td>\n",
       "        <td>69.8597668668315</td>\n",
       "    </tr>\n",
       "    <tr>\n",
       "        <td>Ireland</td>\n",
       "        <td>69.61855904828312</td>\n",
       "    </tr>\n",
       "    <tr>\n",
       "        <td>United Arab Emirates</td>\n",
       "        <td>69.13588516746411</td>\n",
       "    </tr>\n",
       "    <tr>\n",
       "        <td>Burkina Faso</td>\n",
       "        <td>69.04334792122539</td>\n",
       "    </tr>\n",
       "    <tr>\n",
       "        <td>French Polynesia</td>\n",
       "        <td>67.84329253659708</td>\n",
       "    </tr>\n",
       "    <tr>\n",
       "        <td>Tunisia</td>\n",
       "        <td>67.46057698184707</td>\n",
       "    </tr>\n",
       "    <tr>\n",
       "        <td>Uzbekistan</td>\n",
       "        <td>65.26585158694681</td>\n",
       "    </tr>\n",
       "    <tr>\n",
       "        <td>Bulgaria</td>\n",
       "        <td>64.81744063348334</td>\n",
       "    </tr>\n",
       "    <tr>\n",
       "        <td>Lesotho</td>\n",
       "        <td>64.16409158293527</td>\n",
       "    </tr>\n",
       "    <tr>\n",
       "        <td>Mexico</td>\n",
       "        <td>61.972285841552655</td>\n",
       "    </tr>\n",
       "    <tr>\n",
       "        <td>Norfolk Island</td>\n",
       "        <td>61.388888888888886</td>\n",
       "    </tr>\n",
       "    <tr>\n",
       "        <td>Tajikistan</td>\n",
       "        <td>56.84911866759195</td>\n",
       "    </tr>\n",
       "    <tr>\n",
       "        <td>Ecuador</td>\n",
       "        <td>55.96113710982822</td>\n",
       "    </tr>\n",
       "    <tr>\n",
       "        <td>Eritrea</td>\n",
       "        <td>55.507559523809526</td>\n",
       "    </tr>\n",
       "    <tr>\n",
       "        <td>Virgin Islands</td>\n",
       "        <td>54.227225130890055</td>\n",
       "    </tr>\n",
       "    <tr>\n",
       "        <td>Tanzania</td>\n",
       "        <td>53.88565607516098</td>\n",
       "    </tr>\n",
       "    <tr>\n",
       "        <td>Turks and Caicos Islands</td>\n",
       "        <td>53.037974683544306</td>\n",
       "    </tr>\n",
       "    <tr>\n",
       "        <td>Montserrat</td>\n",
       "        <td>51.38235294117647</td>\n",
       "    </tr>\n",
       "    <tr>\n",
       "        <td>Yemen</td>\n",
       "        <td>50.64192716225226</td>\n",
       "    </tr>\n",
       "    <tr>\n",
       "        <td>Cameroon</td>\n",
       "        <td>49.93104913343429</td>\n",
       "    </tr>\n",
       "    <tr>\n",
       "        <td>Afghanistan</td>\n",
       "        <td>49.92769728470018</td>\n",
       "    </tr>\n",
       "    <tr>\n",
       "        <td>Fiji</td>\n",
       "        <td>49.764091058334245</td>\n",
       "    </tr>\n",
       "    <tr>\n",
       "        <td>Iran</td>\n",
       "        <td>49.64477504178814</td>\n",
       "    </tr>\n",
       "    <tr>\n",
       "        <td>Panama</td>\n",
       "        <td>48.48878281622912</td>\n",
       "    </tr>\n",
       "    <tr>\n",
       "        <td>Guinea</td>\n",
       "        <td>47.91469024676946</td>\n",
       "    </tr>\n",
       "    <tr>\n",
       "        <td>Guinea-Bissau</td>\n",
       "        <td>47.78325259515571</td>\n",
       "    </tr>\n",
       "    <tr>\n",
       "        <td>Montenegro</td>\n",
       "        <td>46.84860990443093</td>\n",
       "    </tr>\n",
       "    <tr>\n",
       "        <td>Palau</td>\n",
       "        <td>46.328976034858385</td>\n",
       "    </tr>\n",
       "    <tr>\n",
       "        <td>Belarus</td>\n",
       "        <td>46.193106936416186</td>\n",
       "    </tr>\n",
       "    <tr>\n",
       "        <td>Nicaragua</td>\n",
       "        <td>45.31626140983355</td>\n",
       "    </tr>\n",
       "    <tr>\n",
       "        <td>Lithuania</td>\n",
       "        <td>44.172021439509955</td>\n",
       "    </tr>\n",
       "    <tr>\n",
       "        <td>South Africa</td>\n",
       "        <td>44.02920457062235</td>\n",
       "    </tr>\n",
       "    <tr>\n",
       "        <td>Cocos (Keeling) Islands</td>\n",
       "        <td>42.57142857142857</td>\n",
       "    </tr>\n",
       "    <tr>\n",
       "        <td>Cook Islands</td>\n",
       "        <td>41.686440677966104</td>\n",
       "    </tr>\n",
       "    <tr>\n",
       "        <td>Colombia</td>\n",
       "        <td>41.036366350282286</td>\n",
       "    </tr>\n",
       "    <tr>\n",
       "        <td>Madagascar</td>\n",
       "        <td>40.56391461584455</td>\n",
       "    </tr>\n",
       "    <tr>\n",
       "        <td>Liberia</td>\n",
       "        <td>37.6735536819043</td>\n",
       "    </tr>\n",
       "    <tr>\n",
       "        <td>Zimbabwe</td>\n",
       "        <td>36.41531949523617</td>\n",
       "    </tr>\n",
       "    <tr>\n",
       "        <td>Faroe Islands</td>\n",
       "        <td>36.034458004307254</td>\n",
       "    </tr>\n",
       "    <tr>\n",
       "        <td>Djibouti</td>\n",
       "        <td>35.703620689655175</td>\n",
       "    </tr>\n",
       "    <tr>\n",
       "        <td>Congo, Democratic Republic of the</td>\n",
       "        <td>33.85072187740153</td>\n",
       "    </tr>\n",
       "    <tr>\n",
       "        <td>United States</td>\n",
       "        <td>32.70372369087204</td>\n",
       "    </tr>\n",
       "    <tr>\n",
       "        <td>Venezuela</td>\n",
       "        <td>32.09852530014802</td>\n",
       "    </tr>\n",
       "    <tr>\n",
       "        <td>Mozambique</td>\n",
       "        <td>31.65342265255573</td>\n",
       "    </tr>\n",
       "    <tr>\n",
       "        <td>Latvia</td>\n",
       "        <td>30.759185000541887</td>\n",
       "    </tr>\n",
       "    <tr>\n",
       "        <td>Laos</td>\n",
       "        <td>29.187263513513514</td>\n",
       "    </tr>\n",
       "    <tr>\n",
       "        <td>Kyrgyzstan</td>\n",
       "        <td>28.331636250881466</td>\n",
       "    </tr>\n",
       "    <tr>\n",
       "        <td>Estonia</td>\n",
       "        <td>27.978685769877067</td>\n",
       "    </tr>\n",
       "    <tr>\n",
       "        <td>Equatorial Guinea</td>\n",
       "        <td>26.40700866279277</td>\n",
       "    </tr>\n",
       "    <tr>\n",
       "        <td>Saint Helena, Ascension, and Tristan da Cunha</td>\n",
       "        <td>25.308441558441558</td>\n",
       "    </tr>\n",
       "    <tr>\n",
       "        <td>Brazil</td>\n",
       "        <td>23.98606491250938</td>\n",
       "    </tr>\n",
       "    <tr>\n",
       "        <td>Peru</td>\n",
       "        <td>23.688624324627146</td>\n",
       "    </tr>\n",
       "    <tr>\n",
       "        <td>Bahamas, The</td>\n",
       "        <td>23.385951008645534</td>\n",
       "    </tr>\n",
       "    <tr>\n",
       "        <td>Saint Pierre and Miquelon</td>\n",
       "        <td>23.376033057851238</td>\n",
       "    </tr>\n",
       "    <tr>\n",
       "        <td>Chile</td>\n",
       "        <td>23.15594985861696</td>\n",
       "    </tr>\n",
       "    <tr>\n",
       "        <td>Vanuatu</td>\n",
       "        <td>22.336861104274345</td>\n",
       "    </tr>\n",
       "    <tr>\n",
       "        <td>Sweden</td>\n",
       "        <td>21.7670993459843</td>\n",
       "    </tr>\n",
       "    <tr>\n",
       "        <td>Solomon Islands</td>\n",
       "        <td>21.54170127353267</td>\n",
       "    </tr>\n",
       "    <tr>\n",
       "        <td>Zambia</td>\n",
       "        <td>20.01847683685482</td>\n",
       "    </tr>\n",
       "    <tr>\n",
       "        <td>Sudan</td>\n",
       "        <td>19.397885235650698</td>\n",
       "    </tr>\n",
       "    <tr>\n",
       "        <td>Bhutan</td>\n",
       "        <td>19.3238266395791</td>\n",
       "    </tr>\n",
       "    <tr>\n",
       "        <td>Uruguay</td>\n",
       "        <td>18.96486110717022</td>\n",
       "    </tr>\n",
       "    <tr>\n",
       "        <td>South Sudan</td>\n",
       "        <td>18.690622337346294</td>\n",
       "    </tr>\n",
       "    <tr>\n",
       "        <td>Paraguay</td>\n",
       "        <td>16.67667768074896</td>\n",
       "    </tr>\n",
       "    <tr>\n",
       "        <td>Somalia</td>\n",
       "        <td>16.649044862676956</td>\n",
       "    </tr>\n",
       "    <tr>\n",
       "        <td>Algeria</td>\n",
       "        <td>16.602210735760103</td>\n",
       "    </tr>\n",
       "    <tr>\n",
       "        <td>New Zealand</td>\n",
       "        <td>16.57910798998917</td>\n",
       "    </tr>\n",
       "    <tr>\n",
       "        <td>Finland</td>\n",
       "        <td>16.196962841384615</td>\n",
       "    </tr>\n",
       "    <tr>\n",
       "        <td>Norway</td>\n",
       "        <td>16.082942662491277</td>\n",
       "    </tr>\n",
       "    <tr>\n",
       "        <td>Angola</td>\n",
       "        <td>15.741840859870058</td>\n",
       "    </tr>\n",
       "    <tr>\n",
       "        <td>Argentina</td>\n",
       "        <td>15.620732988059272</td>\n",
       "    </tr>\n",
       "    <tr>\n",
       "        <td>Belize</td>\n",
       "        <td>15.125359226682923</td>\n",
       "    </tr>\n",
       "    <tr>\n",
       "        <td>New Caledonia</td>\n",
       "        <td>14.622611036339165</td>\n",
       "    </tr>\n",
       "    <tr>\n",
       "        <td>Papua New Guinea</td>\n",
       "        <td>14.416275602800104</td>\n",
       "    </tr>\n",
       "    <tr>\n",
       "        <td>Congo, Republic of the</td>\n",
       "        <td>13.903792397660819</td>\n",
       "    </tr>\n",
       "    <tr>\n",
       "        <td>Mali</td>\n",
       "        <td>13.671702446072866</td>\n",
       "    </tr>\n",
       "    <tr>\n",
       "        <td>Saudi Arabia</td>\n",
       "        <td>12.909915383148268</td>\n",
       "    </tr>\n",
       "    <tr>\n",
       "        <td>Christmas Island</td>\n",
       "        <td>11.333333333333334</td>\n",
       "    </tr>\n",
       "    <tr>\n",
       "        <td>Turkmenistan</td>\n",
       "        <td>10.717930751895103</td>\n",
       "    </tr>\n",
       "    <tr>\n",
       "        <td>Oman</td>\n",
       "        <td>10.620148626817448</td>\n",
       "    </tr>\n",
       "    <tr>\n",
       "        <td>Bolivia</td>\n",
       "        <td>9.831666486130745</td>\n",
       "    </tr>\n",
       "    <tr>\n",
       "        <td>Central African Republic</td>\n",
       "        <td>8.654377961552784</td>\n",
       "    </tr>\n",
       "    <tr>\n",
       "        <td>Russia</td>\n",
       "        <td>8.329731968935754</td>\n",
       "    </tr>\n",
       "    <tr>\n",
       "        <td>Kazakhstan</td>\n",
       "        <td>6.6634085654519435</td>\n",
       "    </tr>\n",
       "    <tr>\n",
       "        <td>Gabon</td>\n",
       "        <td>6.371110372216224</td>\n",
       "    </tr>\n",
       "    <tr>\n",
       "        <td>Niue</td>\n",
       "        <td>4.576923076923077</td>\n",
       "    </tr>\n",
       "    <tr>\n",
       "        <td>Botswana</td>\n",
       "        <td>3.752116961476974</td>\n",
       "    </tr>\n",
       "    <tr>\n",
       "        <td>Libya</td>\n",
       "        <td>3.644006956363595</td>\n",
       "    </tr>\n",
       "    <tr>\n",
       "        <td>Suriname</td>\n",
       "        <td>3.5382309852276888</td>\n",
       "    </tr>\n",
       "    <tr>\n",
       "        <td>Canada</td>\n",
       "        <td>3.515372666297434</td>\n",
       "    </tr>\n",
       "    <tr>\n",
       "        <td>Mauritania</td>\n",
       "        <td>3.4895721354419327</td>\n",
       "    </tr>\n",
       "    <tr>\n",
       "        <td>Guyana</td>\n",
       "        <td>3.4201303443752353</td>\n",
       "    </tr>\n",
       "    <tr>\n",
       "        <td>Iceland</td>\n",
       "        <td>3.222504854368932</td>\n",
       "    </tr>\n",
       "    <tr>\n",
       "        <td>Australia</td>\n",
       "        <td>2.9389442490976876</td>\n",
       "    </tr>\n",
       "    <tr>\n",
       "        <td>Namibia</td>\n",
       "        <td>2.6838875058838374</td>\n",
       "    </tr>\n",
       "    <tr>\n",
       "        <td>Western Sahara</td>\n",
       "        <td>2.146112781954887</td>\n",
       "    </tr>\n",
       "    <tr>\n",
       "        <td>Mongolia</td>\n",
       "        <td>1.9134821202519505</td>\n",
       "    </tr>\n",
       "    <tr>\n",
       "        <td>Pitcairn Islands</td>\n",
       "        <td>1.0212765957446808</td>\n",
       "    </tr>\n",
       "    <tr>\n",
       "        <td>Falkland Islands (Islas Malvinas)</td>\n",
       "        <td>0.2761028505709357</td>\n",
       "    </tr>\n",
       "    <tr>\n",
       "        <td>Svalbard</td>\n",
       "        <td>0.030171649609154645</td>\n",
       "    </tr>\n",
       "    <tr>\n",
       "        <td>Greenland</td>\n",
       "        <td>0.026653143042335344</td>\n",
       "    </tr>\n",
       "</table>"
      ],
      "text/plain": [
       "[('Tuvalu', 418.03846153846155),\n",
       " ('Netherlands', 407.96052283176465),\n",
       " ('Marshall Islands', 398.8453038674033),\n",
       " ('Israel', 387.5452094366875),\n",
       " ('Burundi', 385.99626302551206),\n",
       " ('India', 380.7713541630226),\n",
       " ('Belgium', 370.9372707023061),\n",
       " ('Haiti', 364.325009009009),\n",
       " ('Comoros', 349.42774049217),\n",
       " ('Philippines', 336.6612533333333),\n",
       " ('Sri Lanka', 336.12998018594726),\n",
       " ('Japan', 335.8418136353413),\n",
       " ('Curacao', 334.2477477477477),\n",
       " ('Grenada', 321.7848837209302),\n",
       " ('Guam', 297.39889705882354),\n",
       " ('El Salvador', 291.8753861508483),\n",
       " ('Vietnam', 284.8610700160019),\n",
       " ('American Samoa', 273.08040201005025),\n",
       " ('Jamaica', 268.4205258848148),\n",
       " ('Saint Lucia', 266.10714285714283),\n",
       " ('Saint Vincent and the Grenadines', 263.82262210796915),\n",
       " ('United Kingdom', 263.0771396904889),\n",
       " ('Puerto Rico', 260.92067290261764),\n",
       " ('Pakistan', 250.07800199724906),\n",
       " ('Trinidad and Tobago', 238.3703198127925),\n",
       " ('Liechtenstein', 235.15),\n",
       " ('Germany', 226.4689795026637),\n",
       " ('British Virgin Islands', 221.5496688741722),\n",
       " ('Luxembourg', 220.51508120649652),\n",
       " ('Dominican Republic', 215.3021573864804),\n",
       " ('Nepal', 214.3707747603291),\n",
       " ('Cayman Islands', 212.46969696969697),\n",
       " ('Antigua and Barbuda', 209.13122171945702),\n",
       " ('Korea, North', 207.26414076888616),\n",
       " ('Italy', 205.26687462666754),\n",
       " ('Seychelles', 203.14285714285714),\n",
       " ('Sao Tome and Principe', 201.25103734439833),\n",
       " ('Saint Kitts and Nevis', 198.98850574712642),\n",
       " ('Switzerland', 196.76405746541658),\n",
       " ('Nigeria', 196.5450805830035),\n",
       " ('Qatar', 189.43699292249266),\n",
       " ('Andorra', 182.86324786324786),\n",
       " ('Anguilla', 180.41758241758242),\n",
       " ('Gambia, The', 174.13353982300885),\n",
       " ('Kosovo', 171.8545972260494),\n",
       " ('Kuwait', 156.50095409136827),\n",
       " ('Uganda', 153.92487906471177),\n",
       " ('Isle of Man', 153.0506993006993),\n",
       " ('Malawi', 151.62129063839842),\n",
       " ('Micronesia, Federated States of', 149.8803418803419),\n",
       " ('Tonga', 142.57161981258366),\n",
       " ('China', 142.4915168970174),\n",
       " ('Guatemala', 137.01107549890256),\n",
       " ('Cabo Verde', 135.3813538308951),\n",
       " ('Czech Republic', 134.97206689743493),\n",
       " ('Indonesia', 134.41029125224657),\n",
       " ('Togo', 132.99846790525666),\n",
       " ('Thailand', 132.47662340193327),\n",
       " ('Kiribati', 130.34648581997533),\n",
       " ('Denmark', 129.51926022184063),\n",
       " ('Cyprus', 128.54794076316074),\n",
       " ('Akrotiri', 127.64227642276423),\n",
       " ('Poland', 123.3259958104802),\n",
       " ('Dhekelia', 120.76923076923077),\n",
       " ('European Union', 118.83823161491145),\n",
       " ('Portugal', 117.5514062330329),\n",
       " ('Azerbaijan', 112.94203233256351),\n",
       " ('Northern Mariana Islands', 112.8103448275862),\n",
       " ('Tokelau', 111.41666666666667),\n",
       " ('Slovakia', 111.04368308351178),\n",
       " ('Ghana', 110.37319364616216),\n",
       " ('Wallis and Futuna', 109.95070422535211),\n",
       " ('Hungary', 106.3931396998753),\n",
       " ('Albania', 105.37352163628775),\n",
       " ('Moldova', 104.77820448435793),\n",
       " ('France', 103.37630106197412),\n",
       " ('Austria', 103.31997949231558),\n",
       " ('Armenia', 102.75970816662745),\n",
       " ('Turkey', 101.35033220089795),\n",
       " ('Cuba', 99.50778459318059),\n",
       " ('Dominica', 98.01198402130493),\n",
       " ('Slovenia', 97.8351501997731),\n",
       " ('Spain', 95.26907810119319),\n",
       " ('Costa Rica', 94.21025440313112),\n",
       " ('Benin', 92.77625153167232),\n",
       " ('Serbia', 92.63487105351473),\n",
       " ('Malaysia', 92.50909664177634),\n",
       " ('Syria', 92.1527918781726),\n",
       " ('Romania', 90.88577169440121),\n",
       " ('Jordan', 90.85943900964831),\n",
       " ('Ethiopia', 90.0713746264602),\n",
       " ('Egypt', 88.3592750511758),\n",
       " ('Cambodia', 86.77192808020548),\n",
       " ('Iraq', 84.5419388250969),\n",
       " ('Burma', 83.24273919636761),\n",
       " ('Timor-Leste', 82.76966518757564),\n",
       " ('Swaziland', 82.67755125547109),\n",
       " ('Sierra Leone', 81.9500696961249),\n",
       " ('Greece', 81.66026053941815),\n",
       " ('Macedonia', 81.51577023295609),\n",
       " ('Kenya', 79.1314823206695),\n",
       " ('Croatia', 78.89253277732622),\n",
       " ('Honduras', 78.03258988312963),\n",
       " ('Bosnia and Herzegovina', 75.53284372131179),\n",
       " ('Morocco', 74.6225484268279),\n",
       " ('Brunei', 74.5266261925412),\n",
       " ('Ukraine', 73.61357136939773),\n",
       " (\"Cote d'Ivoire\", 72.2417827781792),\n",
       " ('Senegal', 71.0435741808237),\n",
       " ('Georgia', 70.74929698708752),\n",
       " ('Samoa', 69.8597668668315),\n",
       " ('Ireland', 69.61855904828312),\n",
       " ('United Arab Emirates', 69.13588516746411),\n",
       " ('Burkina Faso', 69.04334792122539),\n",
       " ('French Polynesia', 67.84329253659708),\n",
       " ('Tunisia', 67.46057698184707),\n",
       " ('Uzbekistan', 65.26585158694681),\n",
       " ('Bulgaria', 64.81744063348334),\n",
       " ('Lesotho', 64.16409158293527),\n",
       " ('Mexico', 61.972285841552655),\n",
       " ('Norfolk Island', 61.388888888888886),\n",
       " ('Tajikistan', 56.84911866759195),\n",
       " ('Ecuador', 55.96113710982822),\n",
       " ('Eritrea', 55.507559523809526),\n",
       " ('Virgin Islands', 54.227225130890055),\n",
       " ('Tanzania', 53.88565607516098),\n",
       " ('Turks and Caicos Islands', 53.037974683544306),\n",
       " ('Montserrat', 51.38235294117647),\n",
       " ('Yemen', 50.64192716225226),\n",
       " ('Cameroon', 49.93104913343429),\n",
       " ('Afghanistan', 49.92769728470018),\n",
       " ('Fiji', 49.764091058334245),\n",
       " ('Iran', 49.64477504178814),\n",
       " ('Panama', 48.48878281622912),\n",
       " ('Guinea', 47.91469024676946),\n",
       " ('Guinea-Bissau', 47.78325259515571),\n",
       " ('Montenegro', 46.84860990443093),\n",
       " ('Palau', 46.328976034858385),\n",
       " ('Belarus', 46.193106936416186),\n",
       " ('Nicaragua', 45.31626140983355),\n",
       " ('Lithuania', 44.172021439509955),\n",
       " ('South Africa', 44.02920457062235),\n",
       " ('Cocos (Keeling) Islands', 42.57142857142857),\n",
       " ('Cook Islands', 41.686440677966104),\n",
       " ('Colombia', 41.036366350282286),\n",
       " ('Madagascar', 40.56391461584455),\n",
       " ('Liberia', 37.6735536819043),\n",
       " ('Zimbabwe', 36.41531949523617),\n",
       " ('Faroe Islands', 36.034458004307254),\n",
       " ('Djibouti', 35.703620689655175),\n",
       " ('Congo, Democratic Republic of the', 33.85072187740153),\n",
       " ('United States', 32.70372369087204),\n",
       " ('Venezuela', 32.09852530014802),\n",
       " ('Mozambique', 31.65342265255573),\n",
       " ('Latvia', 30.759185000541887),\n",
       " ('Laos', 29.187263513513514),\n",
       " ('Kyrgyzstan', 28.331636250881466),\n",
       " ('Estonia', 27.978685769877067),\n",
       " ('Equatorial Guinea', 26.40700866279277),\n",
       " ('Saint Helena, Ascension, and Tristan da Cunha', 25.308441558441558),\n",
       " ('Brazil', 23.98606491250938),\n",
       " ('Peru', 23.688624324627146),\n",
       " ('Bahamas, The', 23.385951008645534),\n",
       " ('Saint Pierre and Miquelon', 23.376033057851238),\n",
       " ('Chile', 23.15594985861696),\n",
       " ('Vanuatu', 22.336861104274345),\n",
       " ('Sweden', 21.7670993459843),\n",
       " ('Solomon Islands', 21.54170127353267),\n",
       " ('Zambia', 20.01847683685482),\n",
       " ('Sudan', 19.397885235650698),\n",
       " ('Bhutan', 19.3238266395791),\n",
       " ('Uruguay', 18.96486110717022),\n",
       " ('South Sudan', 18.690622337346294),\n",
       " ('Paraguay', 16.67667768074896),\n",
       " ('Somalia', 16.649044862676956),\n",
       " ('Algeria', 16.602210735760103),\n",
       " ('New Zealand', 16.57910798998917),\n",
       " ('Finland', 16.196962841384615),\n",
       " ('Norway', 16.082942662491277),\n",
       " ('Angola', 15.741840859870058),\n",
       " ('Argentina', 15.620732988059272),\n",
       " ('Belize', 15.125359226682923),\n",
       " ('New Caledonia', 14.622611036339165),\n",
       " ('Papua New Guinea', 14.416275602800104),\n",
       " ('Congo, Republic of the', 13.903792397660819),\n",
       " ('Mali', 13.671702446072866),\n",
       " ('Saudi Arabia', 12.909915383148268),\n",
       " ('Christmas Island', 11.333333333333334),\n",
       " ('Turkmenistan', 10.717930751895103),\n",
       " ('Oman', 10.620148626817448),\n",
       " ('Bolivia', 9.831666486130745),\n",
       " ('Central African Republic', 8.654377961552784),\n",
       " ('Russia', 8.329731968935754),\n",
       " ('Kazakhstan', 6.6634085654519435),\n",
       " ('Gabon', 6.371110372216224),\n",
       " ('Niue', 4.576923076923077),\n",
       " ('Botswana', 3.752116961476974),\n",
       " ('Libya', 3.644006956363595),\n",
       " ('Suriname', 3.5382309852276888),\n",
       " ('Canada', 3.515372666297434),\n",
       " ('Mauritania', 3.4895721354419327),\n",
       " ('Guyana', 3.4201303443752353),\n",
       " ('Iceland', 3.222504854368932),\n",
       " ('Australia', 2.9389442490976876),\n",
       " ('Namibia', 2.6838875058838374),\n",
       " ('Western Sahara', 2.146112781954887),\n",
       " ('Mongolia', 1.9134821202519505),\n",
       " ('Pitcairn Islands', 1.0212765957446808),\n",
       " ('Falkland Islands (Islas Malvinas)', 0.2761028505709357),\n",
       " ('Svalbard', 0.030171649609154645),\n",
       " ('Greenland', 0.026653143042335344)]"
      ]
     },
     "execution_count": 15,
     "metadata": {},
     "output_type": "execute_result"
    }
   ],
   "source": [
    "%%sql\n",
    "SELECT name, (CAST(population AS FLOAT) / CAST(area AS FLOAT)) AS \"Population to Area ratio\"\n",
    "FROM facts\n",
    "WHERE (CAST(population AS FLOAT) / CAST(area AS FLOAT)) < (SELECT AVG(CAST(population AS FLOAT) / CAST(area AS FLOAT))\n",
    "                                                            FROM facts)\n",
    "ORDER BY (CAST(population AS FLOAT) / CAST(area AS FLOAT)) DESC;"
   ]
  },
  {
   "cell_type": "markdown",
   "metadata": {},
   "source": [
    "### Intriguing information"
   ]
  },
  {
   "cell_type": "markdown",
   "metadata": {},
   "source": [
    "There is one country in the world where the recorded total area is not the same as the sum of the land area and water area."
   ]
  },
  {
   "cell_type": "code",
   "execution_count": 40,
   "metadata": {},
   "outputs": [
    {
     "name": "stdout",
     "output_type": "stream",
     "text": [
      "Done.\n"
     ]
    },
    {
     "data": {
      "text/html": [
       "<table>\n",
       "    <tr>\n",
       "        <th>name</th>\n",
       "    </tr>\n",
       "    <tr>\n",
       "        <td>Saint Helena, Ascension, and Tristan da Cunha</td>\n",
       "    </tr>\n",
       "</table>"
      ],
      "text/plain": [
       "[('Saint Helena, Ascension, and Tristan da Cunha',)]"
      ]
     },
     "execution_count": 40,
     "metadata": {},
     "output_type": "execute_result"
    }
   ],
   "source": [
    "%%sql\n",
    "SELECT name\n",
    "FROM facts\n",
    "WHERE area <> (area_land + area_water);"
   ]
  },
  {
   "cell_type": "markdown",
   "metadata": {},
   "source": [
    "Names of countries vary in length, from 4 to 45, with an average length of 10."
   ]
  },
  {
   "cell_type": "code",
   "execution_count": 58,
   "metadata": {},
   "outputs": [
    {
     "name": "stdout",
     "output_type": "stream",
     "text": [
      "Done.\n"
     ]
    },
    {
     "data": {
      "text/html": [
       "<table>\n",
       "    <tr>\n",
       "        <th>Longest name</th>\n",
       "        <th>Shortest name</th>\n",
       "        <th>Average length of name</th>\n",
       "    </tr>\n",
       "    <tr>\n",
       "        <td>45</td>\n",
       "        <td>4</td>\n",
       "        <td>10.0</td>\n",
       "    </tr>\n",
       "</table>"
      ],
      "text/plain": [
       "[(45, 4, 10.0)]"
      ]
     },
     "execution_count": 58,
     "metadata": {},
     "output_type": "execute_result"
    }
   ],
   "source": [
    "%%sql\n",
    "SELECT MAX(LENGTH(name)) AS \"Longest name\", \n",
    "       MIN(LENGTH(name)) AS \"Shortest name\", \n",
    "       ROUND(AVG(LENGTH(name)),0) AS \"Average length of name\"\n",
    "FROM facts;"
   ]
  },
  {
   "cell_type": "markdown",
   "metadata": {},
   "source": [
    "The countries with the longest names are:"
   ]
  },
  {
   "cell_type": "code",
   "execution_count": 36,
   "metadata": {},
   "outputs": [
    {
     "name": "stdout",
     "output_type": "stream",
     "text": [
      " * sqlite:///factbook.db\n",
      "Done.\n"
     ]
    },
    {
     "data": {
      "text/html": [
       "<table>\n",
       "    <tr>\n",
       "        <th>name</th>\n",
       "    </tr>\n",
       "    <tr>\n",
       "        <td>Saint Helena, Ascension, and Tristan da Cunha</td>\n",
       "    </tr>\n",
       "    <tr>\n",
       "        <td>United States Pacific Island Wildlife Refuges</td>\n",
       "    </tr>\n",
       "</table>"
      ],
      "text/plain": [
       "[('Saint Helena, Ascension, and Tristan da Cunha',),\n",
       " ('United States Pacific Island Wildlife Refuges',)]"
      ]
     },
     "execution_count": 36,
     "metadata": {},
     "output_type": "execute_result"
    }
   ],
   "source": [
    "%%sql\n",
    "SELECT name\n",
    "FROM facts\n",
    "WHERE LENGTH(name) = (SELECT MAX(LENGTH(name))\n",
    "                      FROM facts);"
   ]
  },
  {
   "cell_type": "markdown",
   "metadata": {},
   "source": [
    "The countries with the shortest names are:"
   ]
  },
  {
   "cell_type": "code",
   "execution_count": 62,
   "metadata": {},
   "outputs": [
    {
     "name": "stdout",
     "output_type": "stream",
     "text": [
      "Done.\n"
     ]
    },
    {
     "data": {
      "text/html": [
       "<table>\n",
       "    <tr>\n",
       "        <th>name</th>\n",
       "    </tr>\n",
       "    <tr>\n",
       "        <td>Chad</td>\n",
       "    </tr>\n",
       "    <tr>\n",
       "        <td>Cuba</td>\n",
       "    </tr>\n",
       "    <tr>\n",
       "        <td>Fiji</td>\n",
       "    </tr>\n",
       "    <tr>\n",
       "        <td>Iran</td>\n",
       "    </tr>\n",
       "    <tr>\n",
       "        <td>Iraq</td>\n",
       "    </tr>\n",
       "    <tr>\n",
       "        <td>Laos</td>\n",
       "    </tr>\n",
       "    <tr>\n",
       "        <td>Mali</td>\n",
       "    </tr>\n",
       "    <tr>\n",
       "        <td>Oman</td>\n",
       "    </tr>\n",
       "    <tr>\n",
       "        <td>Peru</td>\n",
       "    </tr>\n",
       "    <tr>\n",
       "        <td>Togo</td>\n",
       "    </tr>\n",
       "    <tr>\n",
       "        <td>Niue</td>\n",
       "    </tr>\n",
       "    <tr>\n",
       "        <td>Guam</td>\n",
       "    </tr>\n",
       "</table>"
      ],
      "text/plain": [
       "[('Chad',),\n",
       " ('Cuba',),\n",
       " ('Fiji',),\n",
       " ('Iran',),\n",
       " ('Iraq',),\n",
       " ('Laos',),\n",
       " ('Mali',),\n",
       " ('Oman',),\n",
       " ('Peru',),\n",
       " ('Togo',),\n",
       " ('Niue',),\n",
       " ('Guam',)]"
      ]
     },
     "execution_count": 62,
     "metadata": {},
     "output_type": "execute_result"
    }
   ],
   "source": [
    "%%sql\n",
    "SELECT name\n",
    "FROM facts\n",
    "WHERE LENGTH(name) = (SELECT MIN(LENGTH(name))\n",
    "                      FROM facts);"
   ]
  },
  {
   "cell_type": "markdown",
   "metadata": {},
   "source": [
    "There are 84 countries with above-average length of names and 159 countries with below average length of names."
   ]
  },
  {
   "cell_type": "code",
   "execution_count": 64,
   "metadata": {},
   "outputs": [
    {
     "name": "stdout",
     "output_type": "stream",
     "text": [
      "Done.\n"
     ]
    },
    {
     "data": {
      "text/html": [
       "<table>\n",
       "    <tr>\n",
       "        <th>COUNT(name)</th>\n",
       "    </tr>\n",
       "    <tr>\n",
       "        <td>84</td>\n",
       "    </tr>\n",
       "</table>"
      ],
      "text/plain": [
       "[(84,)]"
      ]
     },
     "execution_count": 64,
     "metadata": {},
     "output_type": "execute_result"
    }
   ],
   "source": [
    "%%sql\n",
    "SELECT COUNT(name)\n",
    "FROM facts\n",
    "WHERE LENGTH(name) > (SELECT ROUND(AVG(LENGTH(name)),0)\n",
    "                      FROM facts);"
   ]
  },
  {
   "cell_type": "code",
   "execution_count": 65,
   "metadata": {},
   "outputs": [
    {
     "name": "stdout",
     "output_type": "stream",
     "text": [
      "Done.\n"
     ]
    },
    {
     "data": {
      "text/html": [
       "<table>\n",
       "    <tr>\n",
       "        <th>COUNT(name)</th>\n",
       "    </tr>\n",
       "    <tr>\n",
       "        <td>159</td>\n",
       "    </tr>\n",
       "</table>"
      ],
      "text/plain": [
       "[(159,)]"
      ]
     },
     "execution_count": 65,
     "metadata": {},
     "output_type": "execute_result"
    }
   ],
   "source": [
    "%%sql\n",
    "SELECT COUNT(name)\n",
    "FROM facts\n",
    "WHERE LENGTH(name) < (SELECT ROUND(AVG(LENGTH(name)),0)\n",
    "                      FROM facts);"
   ]
  },
  {
   "cell_type": "markdown",
   "metadata": {},
   "source": [
    "[Back to Portfolio Page][http://pravjey.github.io/archive.html] "
   ]
  }
 ],
 "metadata": {
  "kernelspec": {
   "display_name": "Python 3",
   "language": "python",
   "name": "python3"
  },
  "language_info": {
   "codemirror_mode": {
    "name": "ipython",
    "version": 3
   },
   "file_extension": ".py",
   "mimetype": "text/x-python",
   "name": "python",
   "nbconvert_exporter": "python",
   "pygments_lexer": "ipython3",
   "version": "3.8.3"
  }
 },
 "nbformat": 4,
 "nbformat_minor": 2
}
